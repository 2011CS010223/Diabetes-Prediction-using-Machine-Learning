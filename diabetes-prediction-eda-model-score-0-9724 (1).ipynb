{
 "cells": [
  {
   "cell_type": "markdown",
   "id": "e017237a",
   "metadata": {
    "papermill": {
     "duration": 0.012938,
     "end_time": "2023-05-07T11:51:25.242172",
     "exception": false,
     "start_time": "2023-05-07T11:51:25.229234",
     "status": "completed"
    },
    "tags": []
   },
   "source": [
    "# Diabetes Prediction"
   ]
  },
  {
   "cell_type": "markdown",
   "id": "a6bc7f05",
   "metadata": {
    "papermill": {
     "duration": 0.013666,
     "end_time": "2023-05-07T11:51:25.268139",
     "exception": false,
     "start_time": "2023-05-07T11:51:25.254473",
     "status": "completed"
    },
    "tags": []
   },
   "source": [
    "Various Health Care professionals are interesting in predicting diabetes for the patients based on their medical history and demographic information. This can be useful for healthcare professionals in identifying patients who may be at risk of developing diabetes and in developing personalized treatment plans.\n",
    "Besides Health Care professionals pharmaceutical companies are also interested in predicting the patients contacting diabetes so that they can do customer profiling.\n",
    "\n",
    "In this project we will specifically focus on predicting Diabetes on the basis of various predictors. For this we will compare Accuracy score of various models and pick the most accurate model."
   ]
  },
  {
   "cell_type": "markdown",
   "id": "066b5c8b",
   "metadata": {
    "papermill": {
     "duration": 0.012324,
     "end_time": "2023-05-07T11:51:25.293142",
     "exception": false,
     "start_time": "2023-05-07T11:51:25.280818",
     "status": "completed"
    },
    "tags": []
   },
   "source": [
    "The Diabetes prediction dataset is a collection of medical and demographic data from patients, along with their diabetes status (positive or negative). The data includes features such as age, gender, body mass index (BMI), hypertension, heart disease, smoking history, HbA1c level, and blood glucose level.\n",
    "\n",
    "The full data set can be seen at the following page: https://www.kaggle.com/datasets/iammustafatz/diabetes-prediction-dataset"
   ]
  },
  {
   "cell_type": "markdown",
   "id": "51c1bf4b",
   "metadata": {
    "papermill": {
     "duration": 0.012009,
     "end_time": "2023-05-07T11:51:25.317300",
     "exception": false,
     "start_time": "2023-05-07T11:51:25.305291",
     "status": "completed"
    },
    "tags": []
   },
   "source": [
    "## Assignment has been broken into 4 Parts\n",
    "1. Data Cleaning\n",
    "2. EDA\n",
    "3. Supervised Learning\n",
    "4. Model Result Comparison and Summary"
   ]
  },
  {
   "cell_type": "code",
   "execution_count": 13,
   "id": "65caff6f",
   "metadata": {
    "execution": {
     "iopub.execute_input": "2023-05-07T11:51:25.344153Z",
     "iopub.status.busy": "2023-05-07T11:51:25.343426Z",
     "iopub.status.idle": "2023-05-07T11:51:26.698984Z",
     "shell.execute_reply": "2023-05-07T11:51:26.697692Z"
    },
    "papermill": {
     "duration": 1.37176,
     "end_time": "2023-05-07T11:51:26.701441",
     "exception": false,
     "start_time": "2023-05-07T11:51:25.329681",
     "status": "completed"
    },
    "tags": []
   },
   "outputs": [],
   "source": [
    "import scipy as sp\n",
    "import scipy.stats as stats\n",
    "import pandas as pd\n",
    "import numpy as np\n",
    "import matplotlib.pyplot as plt\n",
    "import seaborn as sns\n",
    "import sklearn\n",
    "import sklearn.model_selection\n",
    "from sklearn.metrics import f1_score"
   ]
  },
  {
   "cell_type": "markdown",
   "id": "d1a19c61",
   "metadata": {
    "papermill": {
     "duration": 0.013199,
     "end_time": "2023-05-07T11:51:26.727583",
     "exception": false,
     "start_time": "2023-05-07T11:51:26.714384",
     "status": "completed"
    },
    "tags": []
   },
   "source": [
    "## Data Cleaning"
   ]
  },
  {
   "cell_type": "markdown",
   "id": "d3c5ffab",
   "metadata": {
    "papermill": {
     "duration": 0.013317,
     "end_time": "2023-05-07T11:51:26.753730",
     "exception": false,
     "start_time": "2023-05-07T11:51:26.740413",
     "status": "completed"
    },
    "tags": []
   },
   "source": [
    "Data Cleaning step is very important as most of the further operations can only be done on Tidy data. In this Part we will analyse the Data Types, correct them if needed, and find the None values.\n",
    "\n",
    "For the Null Values, if a Predictor has less than 5% Observation values as Null we will impute the values with the Mean, Median, or Mode, as necessary. And for the Predictors having more null values, we will remove them after careful consideration. (In such cases if we have high amount of null value but still want to use that Predictor it will be better to go back to Data Cleaning Step)\n"
   ]
  },
  {
   "cell_type": "code",
   "execution_count": 14,
   "id": "1f391a7e",
   "metadata": {
    "execution": {
     "iopub.execute_input": "2023-05-07T11:51:26.782002Z",
     "iopub.status.busy": "2023-05-07T11:51:26.781419Z",
     "iopub.status.idle": "2023-05-07T11:51:26.914810Z",
     "shell.execute_reply": "2023-05-07T11:51:26.913935Z"
    },
    "papermill": {
     "duration": 0.149219,
     "end_time": "2023-05-07T11:51:26.917094",
     "exception": false,
     "start_time": "2023-05-07T11:51:26.767875",
     "status": "completed"
    },
    "tags": []
   },
   "outputs": [],
   "source": [
    "df = pd.read_csv(\"C:\\\\Users\\\\niket\\\\Downloads\\\\diabetes_prediction_dataset.csv\")"
   ]
  },
  {
   "cell_type": "code",
   "execution_count": 15,
   "id": "10e0ff01",
   "metadata": {
    "execution": {
     "iopub.execute_input": "2023-05-07T11:51:26.942332Z",
     "iopub.status.busy": "2023-05-07T11:51:26.942030Z",
     "iopub.status.idle": "2023-05-07T11:51:26.968087Z",
     "shell.execute_reply": "2023-05-07T11:51:26.967244Z"
    },
    "papermill": {
     "duration": 0.040635,
     "end_time": "2023-05-07T11:51:26.969860",
     "exception": false,
     "start_time": "2023-05-07T11:51:26.929225",
     "status": "completed"
    },
    "tags": []
   },
   "outputs": [
    {
     "data": {
      "text/html": [
       "<div>\n",
       "<style scoped>\n",
       "    .dataframe tbody tr th:only-of-type {\n",
       "        vertical-align: middle;\n",
       "    }\n",
       "\n",
       "    .dataframe tbody tr th {\n",
       "        vertical-align: top;\n",
       "    }\n",
       "\n",
       "    .dataframe thead th {\n",
       "        text-align: right;\n",
       "    }\n",
       "</style>\n",
       "<table border=\"1\" class=\"dataframe\">\n",
       "  <thead>\n",
       "    <tr style=\"text-align: right;\">\n",
       "      <th></th>\n",
       "      <th>gender</th>\n",
       "      <th>age</th>\n",
       "      <th>hypertension</th>\n",
       "      <th>heart_disease</th>\n",
       "      <th>smoking_history</th>\n",
       "      <th>bmi</th>\n",
       "      <th>HbA1c_level</th>\n",
       "      <th>blood_glucose_level</th>\n",
       "      <th>diabetes</th>\n",
       "    </tr>\n",
       "  </thead>\n",
       "  <tbody>\n",
       "    <tr>\n",
       "      <th>0</th>\n",
       "      <td>Female</td>\n",
       "      <td>80.0</td>\n",
       "      <td>0</td>\n",
       "      <td>1</td>\n",
       "      <td>never</td>\n",
       "      <td>25.19</td>\n",
       "      <td>6.6</td>\n",
       "      <td>140</td>\n",
       "      <td>0</td>\n",
       "    </tr>\n",
       "    <tr>\n",
       "      <th>1</th>\n",
       "      <td>Female</td>\n",
       "      <td>54.0</td>\n",
       "      <td>0</td>\n",
       "      <td>0</td>\n",
       "      <td>No Info</td>\n",
       "      <td>27.32</td>\n",
       "      <td>6.6</td>\n",
       "      <td>80</td>\n",
       "      <td>0</td>\n",
       "    </tr>\n",
       "    <tr>\n",
       "      <th>2</th>\n",
       "      <td>Male</td>\n",
       "      <td>28.0</td>\n",
       "      <td>0</td>\n",
       "      <td>0</td>\n",
       "      <td>never</td>\n",
       "      <td>27.32</td>\n",
       "      <td>5.7</td>\n",
       "      <td>158</td>\n",
       "      <td>0</td>\n",
       "    </tr>\n",
       "    <tr>\n",
       "      <th>3</th>\n",
       "      <td>Female</td>\n",
       "      <td>36.0</td>\n",
       "      <td>0</td>\n",
       "      <td>0</td>\n",
       "      <td>current</td>\n",
       "      <td>23.45</td>\n",
       "      <td>5.0</td>\n",
       "      <td>155</td>\n",
       "      <td>0</td>\n",
       "    </tr>\n",
       "    <tr>\n",
       "      <th>4</th>\n",
       "      <td>Male</td>\n",
       "      <td>76.0</td>\n",
       "      <td>1</td>\n",
       "      <td>1</td>\n",
       "      <td>current</td>\n",
       "      <td>20.14</td>\n",
       "      <td>4.8</td>\n",
       "      <td>155</td>\n",
       "      <td>0</td>\n",
       "    </tr>\n",
       "  </tbody>\n",
       "</table>\n",
       "</div>"
      ],
      "text/plain": [
       "   gender   age  hypertension  heart_disease smoking_history    bmi  \\\n",
       "0  Female  80.0             0              1           never  25.19   \n",
       "1  Female  54.0             0              0         No Info  27.32   \n",
       "2    Male  28.0             0              0           never  27.32   \n",
       "3  Female  36.0             0              0         current  23.45   \n",
       "4    Male  76.0             1              1         current  20.14   \n",
       "\n",
       "   HbA1c_level  blood_glucose_level  diabetes  \n",
       "0          6.6                  140         0  \n",
       "1          6.6                   80         0  \n",
       "2          5.7                  158         0  \n",
       "3          5.0                  155         0  \n",
       "4          4.8                  155         0  "
      ]
     },
     "execution_count": 15,
     "metadata": {},
     "output_type": "execute_result"
    }
   ],
   "source": [
    "df.head()"
   ]
  },
  {
   "cell_type": "code",
   "execution_count": 16,
   "id": "c973b8c4",
   "metadata": {
    "execution": {
     "iopub.execute_input": "2023-05-07T11:51:26.995927Z",
     "iopub.status.busy": "2023-05-07T11:51:26.995395Z",
     "iopub.status.idle": "2023-05-07T11:51:27.000369Z",
     "shell.execute_reply": "2023-05-07T11:51:26.999768Z"
    },
    "papermill": {
     "duration": 0.019674,
     "end_time": "2023-05-07T11:51:27.001903",
     "exception": false,
     "start_time": "2023-05-07T11:51:26.982229",
     "status": "completed"
    },
    "tags": []
   },
   "outputs": [
    {
     "data": {
      "text/plain": [
       "(100000, 9)"
      ]
     },
     "execution_count": 16,
     "metadata": {},
     "output_type": "execute_result"
    }
   ],
   "source": [
    "df.shape"
   ]
  },
  {
   "cell_type": "code",
   "execution_count": 17,
   "id": "979d373f",
   "metadata": {
    "execution": {
     "iopub.execute_input": "2023-05-07T11:51:27.029544Z",
     "iopub.status.busy": "2023-05-07T11:51:27.029201Z",
     "iopub.status.idle": "2023-05-07T11:51:27.035560Z",
     "shell.execute_reply": "2023-05-07T11:51:27.034898Z"
    },
    "papermill": {
     "duration": 0.022229,
     "end_time": "2023-05-07T11:51:27.037199",
     "exception": false,
     "start_time": "2023-05-07T11:51:27.014970",
     "status": "completed"
    },
    "tags": []
   },
   "outputs": [
    {
     "data": {
      "text/plain": [
       "gender                  object\n",
       "age                    float64\n",
       "hypertension             int64\n",
       "heart_disease            int64\n",
       "smoking_history         object\n",
       "bmi                    float64\n",
       "HbA1c_level            float64\n",
       "blood_glucose_level      int64\n",
       "diabetes                 int64\n",
       "dtype: object"
      ]
     },
     "execution_count": 17,
     "metadata": {},
     "output_type": "execute_result"
    }
   ],
   "source": [
    "df.dtypes"
   ]
  },
  {
   "cell_type": "code",
   "execution_count": 18,
   "id": "77067f4b",
   "metadata": {
    "execution": {
     "iopub.execute_input": "2023-05-07T11:51:27.068520Z",
     "iopub.status.busy": "2023-05-07T11:51:27.067936Z",
     "iopub.status.idle": "2023-05-07T11:51:27.110433Z",
     "shell.execute_reply": "2023-05-07T11:51:27.109324Z"
    },
    "papermill": {
     "duration": 0.062913,
     "end_time": "2023-05-07T11:51:27.112993",
     "exception": false,
     "start_time": "2023-05-07T11:51:27.050080",
     "status": "completed"
    },
    "tags": []
   },
   "outputs": [
    {
     "data": {
      "text/plain": [
       "gender                 0\n",
       "age                    0\n",
       "hypertension           0\n",
       "heart_disease          0\n",
       "smoking_history        0\n",
       "bmi                    0\n",
       "HbA1c_level            0\n",
       "blood_glucose_level    0\n",
       "diabetes               0\n",
       "dtype: int64"
      ]
     },
     "execution_count": 18,
     "metadata": {},
     "output_type": "execute_result"
    }
   ],
   "source": [
    "df.isna().sum()"
   ]
  },
  {
   "cell_type": "markdown",
   "id": "3771d561",
   "metadata": {
    "papermill": {
     "duration": 0.015283,
     "end_time": "2023-05-07T11:51:27.143765",
     "exception": false,
     "start_time": "2023-05-07T11:51:27.128482",
     "status": "completed"
    },
    "tags": []
   },
   "source": [
    "After looking at the default data type below we adjusted them so that predictors such as age and blood_glucose_level appears properly.\n",
    "\n",
    "We also preliminary checked the None values."
   ]
  },
  {
   "cell_type": "code",
   "execution_count": 19,
   "id": "353187ef",
   "metadata": {
    "execution": {
     "iopub.execute_input": "2023-05-07T11:51:27.173989Z",
     "iopub.status.busy": "2023-05-07T11:51:27.173638Z",
     "iopub.status.idle": "2023-05-07T11:51:27.179058Z",
     "shell.execute_reply": "2023-05-07T11:51:27.178074Z"
    },
    "papermill": {
     "duration": 0.022064,
     "end_time": "2023-05-07T11:51:27.180946",
     "exception": false,
     "start_time": "2023-05-07T11:51:27.158882",
     "status": "completed"
    },
    "tags": []
   },
   "outputs": [],
   "source": [
    "df['age'] = df['age'].astype(int)"
   ]
  },
  {
   "cell_type": "code",
   "execution_count": 20,
   "id": "c27440fa",
   "metadata": {
    "execution": {
     "iopub.execute_input": "2023-05-07T11:51:27.208954Z",
     "iopub.status.busy": "2023-05-07T11:51:27.208445Z",
     "iopub.status.idle": "2023-05-07T11:51:27.224713Z",
     "shell.execute_reply": "2023-05-07T11:51:27.223405Z"
    },
    "papermill": {
     "duration": 0.032291,
     "end_time": "2023-05-07T11:51:27.226579",
     "exception": false,
     "start_time": "2023-05-07T11:51:27.194288",
     "status": "completed"
    },
    "tags": []
   },
   "outputs": [
    {
     "data": {
      "text/plain": [
       "No Info        35816\n",
       "never          35095\n",
       "former          9352\n",
       "current         9286\n",
       "not current     6447\n",
       "ever            4004\n",
       "Name: smoking_history, dtype: int64"
      ]
     },
     "execution_count": 20,
     "metadata": {},
     "output_type": "execute_result"
    }
   ],
   "source": [
    "df['smoking_history'].value_counts()"
   ]
  },
  {
   "cell_type": "code",
   "execution_count": 21,
   "id": "15bc1b9d",
   "metadata": {
    "execution": {
     "iopub.execute_input": "2023-05-07T11:51:27.254485Z",
     "iopub.status.busy": "2023-05-07T11:51:27.254140Z",
     "iopub.status.idle": "2023-05-07T11:51:27.265242Z",
     "shell.execute_reply": "2023-05-07T11:51:27.264638Z"
    },
    "papermill": {
     "duration": 0.027167,
     "end_time": "2023-05-07T11:51:27.266965",
     "exception": false,
     "start_time": "2023-05-07T11:51:27.239798",
     "status": "completed"
    },
    "tags": []
   },
   "outputs": [
    {
     "data": {
      "text/plain": [
       "Female    58552\n",
       "Male      41430\n",
       "Other        18\n",
       "Name: gender, dtype: int64"
      ]
     },
     "execution_count": 21,
     "metadata": {},
     "output_type": "execute_result"
    }
   ],
   "source": [
    "df['gender'].value_counts()"
   ]
  },
  {
   "cell_type": "markdown",
   "id": "5c4eb100",
   "metadata": {
    "papermill": {
     "duration": 0.012943,
     "end_time": "2023-05-07T11:51:27.293154",
     "exception": false,
     "start_time": "2023-05-07T11:51:27.280211",
     "status": "completed"
    },
    "tags": []
   },
   "source": [
    "While there does not seem to be any null value. After checking the object types, especiall the smoking_history we were able to find 35,816 rows where we have No info. \n",
    "\n",
    "While No Info also represent a dimension of information we can not impute it if more than 30% of the Observations have None value. If Health Care experts believe that it is an essential predictor, they will have to improve the collection method so that the information can be captured properly."
   ]
  },
  {
   "cell_type": "markdown",
   "id": "38099a3c",
   "metadata": {
    "papermill": {
     "duration": 0.012989,
     "end_time": "2023-05-07T11:51:27.319527",
     "exception": false,
     "start_time": "2023-05-07T11:51:27.306538",
     "status": "completed"
    },
    "tags": []
   },
   "source": [
    "We can indeed remove smoking history as it has high none value."
   ]
  },
  {
   "cell_type": "code",
   "execution_count": 22,
   "id": "1748406f",
   "metadata": {
    "execution": {
     "iopub.execute_input": "2023-05-07T11:51:27.347681Z",
     "iopub.status.busy": "2023-05-07T11:51:27.347371Z",
     "iopub.status.idle": "2023-05-07T11:51:27.359223Z",
     "shell.execute_reply": "2023-05-07T11:51:27.358585Z"
    },
    "papermill": {
     "duration": 0.027924,
     "end_time": "2023-05-07T11:51:27.360900",
     "exception": false,
     "start_time": "2023-05-07T11:51:27.332976",
     "status": "completed"
    },
    "tags": []
   },
   "outputs": [],
   "source": [
    "df = df.drop(columns = 'smoking_history')"
   ]
  },
  {
   "cell_type": "code",
   "execution_count": 23,
   "id": "60041384",
   "metadata": {
    "execution": {
     "iopub.execute_input": "2023-05-07T11:51:27.392224Z",
     "iopub.status.busy": "2023-05-07T11:51:27.391482Z",
     "iopub.status.idle": "2023-05-07T11:51:27.449044Z",
     "shell.execute_reply": "2023-05-07T11:51:27.447651Z"
    },
    "papermill": {
     "duration": 0.076566,
     "end_time": "2023-05-07T11:51:27.451260",
     "exception": false,
     "start_time": "2023-05-07T11:51:27.374694",
     "status": "completed"
    },
    "tags": []
   },
   "outputs": [
    {
     "data": {
      "text/html": [
       "<div>\n",
       "<style scoped>\n",
       "    .dataframe tbody tr th:only-of-type {\n",
       "        vertical-align: middle;\n",
       "    }\n",
       "\n",
       "    .dataframe tbody tr th {\n",
       "        vertical-align: top;\n",
       "    }\n",
       "\n",
       "    .dataframe thead th {\n",
       "        text-align: right;\n",
       "    }\n",
       "</style>\n",
       "<table border=\"1\" class=\"dataframe\">\n",
       "  <thead>\n",
       "    <tr style=\"text-align: right;\">\n",
       "      <th></th>\n",
       "      <th>age</th>\n",
       "      <th>hypertension</th>\n",
       "      <th>heart_disease</th>\n",
       "      <th>bmi</th>\n",
       "      <th>HbA1c_level</th>\n",
       "      <th>blood_glucose_level</th>\n",
       "      <th>diabetes</th>\n",
       "    </tr>\n",
       "  </thead>\n",
       "  <tbody>\n",
       "    <tr>\n",
       "      <th>count</th>\n",
       "      <td>100000.000000</td>\n",
       "      <td>100000.00000</td>\n",
       "      <td>100000.000000</td>\n",
       "      <td>100000.000000</td>\n",
       "      <td>100000.000000</td>\n",
       "      <td>100000.000000</td>\n",
       "      <td>100000.000000</td>\n",
       "    </tr>\n",
       "    <tr>\n",
       "      <th>mean</th>\n",
       "      <td>41.875660</td>\n",
       "      <td>0.07485</td>\n",
       "      <td>0.039420</td>\n",
       "      <td>27.320767</td>\n",
       "      <td>5.527507</td>\n",
       "      <td>138.058060</td>\n",
       "      <td>0.085000</td>\n",
       "    </tr>\n",
       "    <tr>\n",
       "      <th>std</th>\n",
       "      <td>22.535417</td>\n",
       "      <td>0.26315</td>\n",
       "      <td>0.194593</td>\n",
       "      <td>6.636783</td>\n",
       "      <td>1.070672</td>\n",
       "      <td>40.708136</td>\n",
       "      <td>0.278883</td>\n",
       "    </tr>\n",
       "    <tr>\n",
       "      <th>min</th>\n",
       "      <td>0.000000</td>\n",
       "      <td>0.00000</td>\n",
       "      <td>0.000000</td>\n",
       "      <td>10.010000</td>\n",
       "      <td>3.500000</td>\n",
       "      <td>80.000000</td>\n",
       "      <td>0.000000</td>\n",
       "    </tr>\n",
       "    <tr>\n",
       "      <th>25%</th>\n",
       "      <td>24.000000</td>\n",
       "      <td>0.00000</td>\n",
       "      <td>0.000000</td>\n",
       "      <td>23.630000</td>\n",
       "      <td>4.800000</td>\n",
       "      <td>100.000000</td>\n",
       "      <td>0.000000</td>\n",
       "    </tr>\n",
       "    <tr>\n",
       "      <th>50%</th>\n",
       "      <td>43.000000</td>\n",
       "      <td>0.00000</td>\n",
       "      <td>0.000000</td>\n",
       "      <td>27.320000</td>\n",
       "      <td>5.800000</td>\n",
       "      <td>140.000000</td>\n",
       "      <td>0.000000</td>\n",
       "    </tr>\n",
       "    <tr>\n",
       "      <th>75%</th>\n",
       "      <td>60.000000</td>\n",
       "      <td>0.00000</td>\n",
       "      <td>0.000000</td>\n",
       "      <td>29.580000</td>\n",
       "      <td>6.200000</td>\n",
       "      <td>159.000000</td>\n",
       "      <td>0.000000</td>\n",
       "    </tr>\n",
       "    <tr>\n",
       "      <th>max</th>\n",
       "      <td>80.000000</td>\n",
       "      <td>1.00000</td>\n",
       "      <td>1.000000</td>\n",
       "      <td>95.690000</td>\n",
       "      <td>9.000000</td>\n",
       "      <td>300.000000</td>\n",
       "      <td>1.000000</td>\n",
       "    </tr>\n",
       "  </tbody>\n",
       "</table>\n",
       "</div>"
      ],
      "text/plain": [
       "                 age  hypertension  heart_disease            bmi  \\\n",
       "count  100000.000000  100000.00000  100000.000000  100000.000000   \n",
       "mean       41.875660       0.07485       0.039420      27.320767   \n",
       "std        22.535417       0.26315       0.194593       6.636783   \n",
       "min         0.000000       0.00000       0.000000      10.010000   \n",
       "25%        24.000000       0.00000       0.000000      23.630000   \n",
       "50%        43.000000       0.00000       0.000000      27.320000   \n",
       "75%        60.000000       0.00000       0.000000      29.580000   \n",
       "max        80.000000       1.00000       1.000000      95.690000   \n",
       "\n",
       "         HbA1c_level  blood_glucose_level       diabetes  \n",
       "count  100000.000000        100000.000000  100000.000000  \n",
       "mean        5.527507           138.058060       0.085000  \n",
       "std         1.070672            40.708136       0.278883  \n",
       "min         3.500000            80.000000       0.000000  \n",
       "25%         4.800000           100.000000       0.000000  \n",
       "50%         5.800000           140.000000       0.000000  \n",
       "75%         6.200000           159.000000       0.000000  \n",
       "max         9.000000           300.000000       1.000000  "
      ]
     },
     "execution_count": 23,
     "metadata": {},
     "output_type": "execute_result"
    }
   ],
   "source": [
    "df.describe()"
   ]
  },
  {
   "cell_type": "code",
   "execution_count": 24,
   "id": "69a63a3f",
   "metadata": {
    "execution": {
     "iopub.execute_input": "2023-05-07T11:51:27.479808Z",
     "iopub.status.busy": "2023-05-07T11:51:27.479484Z",
     "iopub.status.idle": "2023-05-07T11:51:27.485426Z",
     "shell.execute_reply": "2023-05-07T11:51:27.484801Z"
    },
    "papermill": {
     "duration": 0.022605,
     "end_time": "2023-05-07T11:51:27.487681",
     "exception": false,
     "start_time": "2023-05-07T11:51:27.465076",
     "status": "completed"
    },
    "tags": []
   },
   "outputs": [],
   "source": [
    "df['blood_glucose_level'] =  df['blood_glucose_level'].astype(float)"
   ]
  },
  {
   "cell_type": "code",
   "execution_count": 25,
   "id": "a2fcea44",
   "metadata": {
    "execution": {
     "iopub.execute_input": "2023-05-07T11:51:27.516788Z",
     "iopub.status.busy": "2023-05-07T11:51:27.515704Z",
     "iopub.status.idle": "2023-05-07T11:51:27.522592Z",
     "shell.execute_reply": "2023-05-07T11:51:27.521953Z"
    },
    "papermill": {
     "duration": 0.022797,
     "end_time": "2023-05-07T11:51:27.524161",
     "exception": false,
     "start_time": "2023-05-07T11:51:27.501364",
     "status": "completed"
    },
    "scrolled": true,
    "tags": []
   },
   "outputs": [
    {
     "data": {
      "text/plain": [
       "gender                  object\n",
       "age                      int32\n",
       "hypertension             int64\n",
       "heart_disease            int64\n",
       "bmi                    float64\n",
       "HbA1c_level            float64\n",
       "blood_glucose_level    float64\n",
       "diabetes                 int64\n",
       "dtype: object"
      ]
     },
     "execution_count": 25,
     "metadata": {},
     "output_type": "execute_result"
    }
   ],
   "source": [
    "df.dtypes"
   ]
  },
  {
   "cell_type": "markdown",
   "id": "658f3d5b",
   "metadata": {
    "papermill": {
     "duration": 0.013267,
     "end_time": "2023-05-07T11:51:27.550415",
     "exception": false,
     "start_time": "2023-05-07T11:51:27.537148",
     "status": "completed"
    },
    "tags": []
   },
   "source": [
    "We are finished with Data Cleaning process for the Diabetes Prediction Dataset. Blow are the final columns and their data types.\n",
    "Age is a discrete variable here, hence we converted it into int type and blood_glucose_level is a continuous variable, and thus it was converted into float.\n"
   ]
  },
  {
   "cell_type": "markdown",
   "id": "3a115de5",
   "metadata": {
    "papermill": {
     "duration": 0.012659,
     "end_time": "2023-05-07T11:51:27.576537",
     "exception": false,
     "start_time": "2023-05-07T11:51:27.563878",
     "status": "completed"
    },
    "tags": []
   },
   "source": [
    "## Exploratory Data Analysis(EDA)"
   ]
  },
  {
   "cell_type": "markdown",
   "id": "164ccbde",
   "metadata": {
    "papermill": {
     "duration": 0.013144,
     "end_time": "2023-05-07T11:51:27.602664",
     "exception": false,
     "start_time": "2023-05-07T11:51:27.589520",
     "status": "completed"
    },
    "tags": []
   },
   "source": [
    "During the EDA part we will draw various plots, extract descriptive statistics, and analyze preliminary relationships across the different Columns of the Data Set.\n",
    "\n",
    "We will start with basic descriptive statistics."
   ]
  },
  {
   "cell_type": "code",
   "execution_count": 26,
   "id": "76214891",
   "metadata": {
    "execution": {
     "iopub.execute_input": "2023-05-07T11:51:27.630627Z",
     "iopub.status.busy": "2023-05-07T11:51:27.630096Z",
     "iopub.status.idle": "2023-05-07T11:51:27.670870Z",
     "shell.execute_reply": "2023-05-07T11:51:27.669997Z"
    },
    "papermill": {
     "duration": 0.056779,
     "end_time": "2023-05-07T11:51:27.672529",
     "exception": false,
     "start_time": "2023-05-07T11:51:27.615750",
     "status": "completed"
    },
    "tags": []
   },
   "outputs": [
    {
     "data": {
      "text/html": [
       "<div>\n",
       "<style scoped>\n",
       "    .dataframe tbody tr th:only-of-type {\n",
       "        vertical-align: middle;\n",
       "    }\n",
       "\n",
       "    .dataframe tbody tr th {\n",
       "        vertical-align: top;\n",
       "    }\n",
       "\n",
       "    .dataframe thead th {\n",
       "        text-align: right;\n",
       "    }\n",
       "</style>\n",
       "<table border=\"1\" class=\"dataframe\">\n",
       "  <thead>\n",
       "    <tr style=\"text-align: right;\">\n",
       "      <th></th>\n",
       "      <th>age</th>\n",
       "      <th>hypertension</th>\n",
       "      <th>heart_disease</th>\n",
       "      <th>bmi</th>\n",
       "      <th>HbA1c_level</th>\n",
       "      <th>blood_glucose_level</th>\n",
       "      <th>diabetes</th>\n",
       "    </tr>\n",
       "  </thead>\n",
       "  <tbody>\n",
       "    <tr>\n",
       "      <th>count</th>\n",
       "      <td>100000.000000</td>\n",
       "      <td>100000.00000</td>\n",
       "      <td>100000.000000</td>\n",
       "      <td>100000.000000</td>\n",
       "      <td>100000.000000</td>\n",
       "      <td>100000.000000</td>\n",
       "      <td>100000.000000</td>\n",
       "    </tr>\n",
       "    <tr>\n",
       "      <th>mean</th>\n",
       "      <td>41.875660</td>\n",
       "      <td>0.07485</td>\n",
       "      <td>0.039420</td>\n",
       "      <td>27.320767</td>\n",
       "      <td>5.527507</td>\n",
       "      <td>138.058060</td>\n",
       "      <td>0.085000</td>\n",
       "    </tr>\n",
       "    <tr>\n",
       "      <th>std</th>\n",
       "      <td>22.535417</td>\n",
       "      <td>0.26315</td>\n",
       "      <td>0.194593</td>\n",
       "      <td>6.636783</td>\n",
       "      <td>1.070672</td>\n",
       "      <td>40.708136</td>\n",
       "      <td>0.278883</td>\n",
       "    </tr>\n",
       "    <tr>\n",
       "      <th>min</th>\n",
       "      <td>0.000000</td>\n",
       "      <td>0.00000</td>\n",
       "      <td>0.000000</td>\n",
       "      <td>10.010000</td>\n",
       "      <td>3.500000</td>\n",
       "      <td>80.000000</td>\n",
       "      <td>0.000000</td>\n",
       "    </tr>\n",
       "    <tr>\n",
       "      <th>25%</th>\n",
       "      <td>24.000000</td>\n",
       "      <td>0.00000</td>\n",
       "      <td>0.000000</td>\n",
       "      <td>23.630000</td>\n",
       "      <td>4.800000</td>\n",
       "      <td>100.000000</td>\n",
       "      <td>0.000000</td>\n",
       "    </tr>\n",
       "    <tr>\n",
       "      <th>50%</th>\n",
       "      <td>43.000000</td>\n",
       "      <td>0.00000</td>\n",
       "      <td>0.000000</td>\n",
       "      <td>27.320000</td>\n",
       "      <td>5.800000</td>\n",
       "      <td>140.000000</td>\n",
       "      <td>0.000000</td>\n",
       "    </tr>\n",
       "    <tr>\n",
       "      <th>75%</th>\n",
       "      <td>60.000000</td>\n",
       "      <td>0.00000</td>\n",
       "      <td>0.000000</td>\n",
       "      <td>29.580000</td>\n",
       "      <td>6.200000</td>\n",
       "      <td>159.000000</td>\n",
       "      <td>0.000000</td>\n",
       "    </tr>\n",
       "    <tr>\n",
       "      <th>max</th>\n",
       "      <td>80.000000</td>\n",
       "      <td>1.00000</td>\n",
       "      <td>1.000000</td>\n",
       "      <td>95.690000</td>\n",
       "      <td>9.000000</td>\n",
       "      <td>300.000000</td>\n",
       "      <td>1.000000</td>\n",
       "    </tr>\n",
       "  </tbody>\n",
       "</table>\n",
       "</div>"
      ],
      "text/plain": [
       "                 age  hypertension  heart_disease            bmi  \\\n",
       "count  100000.000000  100000.00000  100000.000000  100000.000000   \n",
       "mean       41.875660       0.07485       0.039420      27.320767   \n",
       "std        22.535417       0.26315       0.194593       6.636783   \n",
       "min         0.000000       0.00000       0.000000      10.010000   \n",
       "25%        24.000000       0.00000       0.000000      23.630000   \n",
       "50%        43.000000       0.00000       0.000000      27.320000   \n",
       "75%        60.000000       0.00000       0.000000      29.580000   \n",
       "max        80.000000       1.00000       1.000000      95.690000   \n",
       "\n",
       "         HbA1c_level  blood_glucose_level       diabetes  \n",
       "count  100000.000000        100000.000000  100000.000000  \n",
       "mean        5.527507           138.058060       0.085000  \n",
       "std         1.070672            40.708136       0.278883  \n",
       "min         3.500000            80.000000       0.000000  \n",
       "25%         4.800000           100.000000       0.000000  \n",
       "50%         5.800000           140.000000       0.000000  \n",
       "75%         6.200000           159.000000       0.000000  \n",
       "max         9.000000           300.000000       1.000000  "
      ]
     },
     "execution_count": 26,
     "metadata": {},
     "output_type": "execute_result"
    }
   ],
   "source": [
    "df.describe()"
   ]
  },
  {
   "cell_type": "code",
   "execution_count": 27,
   "id": "e95f62ec",
   "metadata": {
    "execution": {
     "iopub.execute_input": "2023-05-07T11:51:27.701213Z",
     "iopub.status.busy": "2023-05-07T11:51:27.700619Z",
     "iopub.status.idle": "2023-05-07T11:51:28.070929Z",
     "shell.execute_reply": "2023-05-07T11:51:28.070111Z"
    },
    "papermill": {
     "duration": 0.386946,
     "end_time": "2023-05-07T11:51:28.072782",
     "exception": false,
     "start_time": "2023-05-07T11:51:27.685836",
     "status": "completed"
    },
    "tags": []
   },
   "outputs": [
    {
     "data": {
      "image/png": "[encoded data removed]",
      "text/plain": [
       "<Figure size 432.125x360 with 1 Axes>"
      ]
     },
     "metadata": {
      "needs_background": "light"
     },
     "output_type": "display_data"
    }
   ],
   "source": [
    "sns.catplot(data = df, x = 'diabetes', y = 'blood_glucose_level', kind = 'box', hue = 'gender')\n",
    "plt.show()"
   ]
  },
  {
   "cell_type": "code",
   "execution_count": null,
   "id": "a58fcf3e",
   "metadata": {
    "papermill": {
     "duration": 0.013299,
     "end_time": "2023-05-07T11:51:28.100010",
     "exception": false,
     "start_time": "2023-05-07T11:51:28.086711",
     "status": "completed"
    },
    "tags": []
   },
   "outputs": [],
   "source": []
  },
  {
   "cell_type": "markdown",
   "id": "d32d0695",
   "metadata": {
    "papermill": {
     "duration": 0.013166,
     "end_time": "2023-05-07T11:51:28.127695",
     "exception": false,
     "start_time": "2023-05-07T11:51:28.114529",
     "status": "completed"
    },
    "tags": []
   },
   "source": [
    "Box Plot for Diabetes Vs Blood Glucose Level seems same for all the genders, Other Gender looks different in first glance but it can be due to the reason that only 18 entries were availaible for them in the dataset."
   ]
  },
  {
   "cell_type": "code",
   "execution_count": 28,
   "id": "83c6c683",
   "metadata": {
    "execution": {
     "iopub.execute_input": "2023-05-07T11:51:28.156371Z",
     "iopub.status.busy": "2023-05-07T11:51:28.155807Z",
     "iopub.status.idle": "2023-05-07T11:51:28.537675Z",
     "shell.execute_reply": "2023-05-07T11:51:28.536392Z"
    },
    "papermill": {
     "duration": 0.398812,
     "end_time": "2023-05-07T11:51:28.539797",
     "exception": false,
     "start_time": "2023-05-07T11:51:28.140985",
     "status": "completed"
    },
    "tags": []
   },
   "outputs": [
    {
     "data": {
      "image/png": "[encoded data removed]",
      "text/plain": [
       "<Figure size 432.125x360 with 1 Axes>"
      ]
     },
     "metadata": {
      "needs_background": "light"
     },
     "output_type": "display_data"
    }
   ],
   "source": [
    "sns.catplot(data = df, x = 'diabetes', y = 'age', kind = 'box', hue = 'gender')\n",
    "plt.show()"
   ]
  },
  {
   "cell_type": "markdown",
   "id": "71be8f11",
   "metadata": {
    "papermill": {
     "duration": 0.013627,
     "end_time": "2023-05-07T11:51:28.567584",
     "exception": false,
     "start_time": "2023-05-07T11:51:28.553957",
     "status": "completed"
    },
    "tags": []
   },
   "source": [
    "From the above boxplot for Diabetes vs Age we can see that most of the patients with Diabetes have high Median Age and generally higher age with a few outliers where people under 20 also have diabetes."
   ]
  },
  {
   "cell_type": "code",
   "execution_count": 29,
   "id": "52253b15",
   "metadata": {
    "execution": {
     "iopub.execute_input": "2023-05-07T11:51:28.597847Z",
     "iopub.status.busy": "2023-05-07T11:51:28.597521Z",
     "iopub.status.idle": "2023-05-07T11:51:28.980355Z",
     "shell.execute_reply": "2023-05-07T11:51:28.979139Z"
    },
    "papermill": {
     "duration": 0.4016,
     "end_time": "2023-05-07T11:51:28.982796",
     "exception": false,
     "start_time": "2023-05-07T11:51:28.581196",
     "status": "completed"
    },
    "tags": []
   },
   "outputs": [
    {
     "data": {
      "image/png": "[encoded data removed]",
      "text/plain": [
       "<Figure size 432.125x360 with 1 Axes>"
      ]
     },
     "metadata": {
      "needs_background": "light"
     },
     "output_type": "display_data"
    }
   ],
   "source": [
    "sns.catplot(data = df, x = 'hypertension', y = 'age', kind = 'box', hue = 'gender')\n",
    "plt.show()"
   ]
  },
  {
   "cell_type": "markdown",
   "id": "2bc65dc2",
   "metadata": {
    "papermill": {
     "duration": 0.015251,
     "end_time": "2023-05-07T11:51:29.012840",
     "exception": false,
     "start_time": "2023-05-07T11:51:28.997589",
     "status": "completed"
    },
    "tags": []
   },
   "source": [
    "Hypertension Vs Age boxplot based on the Gender appear similar to the Diabetes Vs Age, which was expected because generally most patients for Diabetes have high Median age and around age the likelihood of the Hypertension also increase naturally. Age can be called as a confounding factor here."
   ]
  },
  {
   "cell_type": "code",
   "execution_count": 30,
   "id": "6740ba23",
   "metadata": {
    "execution": {
     "iopub.execute_input": "2023-05-07T11:51:29.043631Z",
     "iopub.status.busy": "2023-05-07T11:51:29.043251Z",
     "iopub.status.idle": "2023-05-07T11:51:29.686359Z",
     "shell.execute_reply": "2023-05-07T11:51:29.685054Z"
    },
    "papermill": {
     "duration": 0.660801,
     "end_time": "2023-05-07T11:51:29.688354",
     "exception": false,
     "start_time": "2023-05-07T11:51:29.027553",
     "status": "completed"
    },
    "tags": []
   },
   "outputs": [
    {
     "data": {
      "image/png": "[encoded data removed]",
      "text/plain": [
       "<Figure size 432.125x360 with 1 Axes>"
      ]
     },
     "metadata": {
      "needs_background": "light"
     },
     "output_type": "display_data"
    }
   ],
   "source": [
    "sns.relplot(data = df, x = 'HbA1c_level', y =  'blood_glucose_level', kind = 'line', hue = 'gender', ci = None, markers = True)\n",
    "plt.show()"
   ]
  },
  {
   "cell_type": "markdown",
   "id": "a62c49c3",
   "metadata": {
    "papermill": {
     "duration": 0.014184,
     "end_time": "2023-05-07T11:51:29.717430",
     "exception": false,
     "start_time": "2023-05-07T11:51:29.703246",
     "status": "completed"
    },
    "tags": []
   },
   "source": [
    "HbA1c Level and Blood Glucose Level for both Male and Female gender appears same. \n",
    "While other gender may look like that it has different shape it may be due to the fact that only 18 observations of such types were recorded."
   ]
  },
  {
   "cell_type": "code",
   "execution_count": 31,
   "id": "aa551263",
   "metadata": {
    "execution": {
     "iopub.execute_input": "2023-05-07T11:51:29.750391Z",
     "iopub.status.busy": "2023-05-07T11:51:29.749578Z",
     "iopub.status.idle": "2023-05-07T11:51:30.386865Z",
     "shell.execute_reply": "2023-05-07T11:51:30.385621Z"
    },
    "papermill": {
     "duration": 0.655759,
     "end_time": "2023-05-07T11:51:30.388967",
     "exception": false,
     "start_time": "2023-05-07T11:51:29.733208",
     "status": "completed"
    },
    "tags": []
   },
   "outputs": [
    {
     "data": {
      "image/png": "[encoded data removed]",
      "text/plain": [
       "<Figure size 432.125x360 with 1 Axes>"
      ]
     },
     "metadata": {
      "needs_background": "light"
     },
     "output_type": "display_data"
    }
   ],
   "source": [
    "sns.relplot(data = df, x = 'blood_glucose_level', y =  'bmi', kind = 'line', hue = 'gender', ci = None)\n",
    "plt.show()"
   ]
  },
  {
   "cell_type": "markdown",
   "id": "bdcb2228",
   "metadata": {
    "papermill": {
     "duration": 0.015229,
     "end_time": "2023-05-07T11:51:30.420196",
     "exception": false,
     "start_time": "2023-05-07T11:51:30.404967",
     "status": "completed"
    },
    "tags": []
   },
   "source": [
    "BMI for Female appears to be more than Male for each level of blood_glucose_level.\n",
    "\n",
    "Again we got abnormal result for Others. This may be due to the fact that only 18 observations were recorded representing them."
   ]
  },
  {
   "cell_type": "code",
   "execution_count": 32,
   "id": "f03cd57b",
   "metadata": {
    "execution": {
     "iopub.execute_input": "2023-05-07T11:51:30.452483Z",
     "iopub.status.busy": "2023-05-07T11:51:30.452102Z",
     "iopub.status.idle": "2023-05-07T11:51:30.478039Z",
     "shell.execute_reply": "2023-05-07T11:51:30.477382Z"
    },
    "papermill": {
     "duration": 0.044228,
     "end_time": "2023-05-07T11:51:30.479653",
     "exception": false,
     "start_time": "2023-05-07T11:51:30.435425",
     "status": "completed"
    },
    "tags": []
   },
   "outputs": [
    {
     "data": {
      "text/html": [
       "<div>\n",
       "<style scoped>\n",
       "    .dataframe tbody tr th:only-of-type {\n",
       "        vertical-align: middle;\n",
       "    }\n",
       "\n",
       "    .dataframe tbody tr th {\n",
       "        vertical-align: top;\n",
       "    }\n",
       "\n",
       "    .dataframe thead th {\n",
       "        text-align: right;\n",
       "    }\n",
       "</style>\n",
       "<table border=\"1\" class=\"dataframe\">\n",
       "  <thead>\n",
       "    <tr style=\"text-align: right;\">\n",
       "      <th></th>\n",
       "      <th>age</th>\n",
       "      <th>hypertension</th>\n",
       "      <th>heart_disease</th>\n",
       "      <th>bmi</th>\n",
       "      <th>HbA1c_level</th>\n",
       "      <th>blood_glucose_level</th>\n",
       "      <th>diabetes</th>\n",
       "    </tr>\n",
       "  </thead>\n",
       "  <tbody>\n",
       "    <tr>\n",
       "      <th>age</th>\n",
       "      <td>1.000000</td>\n",
       "      <td>0.251093</td>\n",
       "      <td>0.233254</td>\n",
       "      <td>0.337747</td>\n",
       "      <td>0.101328</td>\n",
       "      <td>0.110631</td>\n",
       "      <td>0.257933</td>\n",
       "    </tr>\n",
       "    <tr>\n",
       "      <th>hypertension</th>\n",
       "      <td>0.251093</td>\n",
       "      <td>1.000000</td>\n",
       "      <td>0.121262</td>\n",
       "      <td>0.147666</td>\n",
       "      <td>0.080939</td>\n",
       "      <td>0.084429</td>\n",
       "      <td>0.197823</td>\n",
       "    </tr>\n",
       "    <tr>\n",
       "      <th>heart_disease</th>\n",
       "      <td>0.233254</td>\n",
       "      <td>0.121262</td>\n",
       "      <td>1.000000</td>\n",
       "      <td>0.061198</td>\n",
       "      <td>0.067589</td>\n",
       "      <td>0.070066</td>\n",
       "      <td>0.171727</td>\n",
       "    </tr>\n",
       "    <tr>\n",
       "      <th>bmi</th>\n",
       "      <td>0.337747</td>\n",
       "      <td>0.147666</td>\n",
       "      <td>0.061198</td>\n",
       "      <td>1.000000</td>\n",
       "      <td>0.082997</td>\n",
       "      <td>0.091261</td>\n",
       "      <td>0.214357</td>\n",
       "    </tr>\n",
       "    <tr>\n",
       "      <th>HbA1c_level</th>\n",
       "      <td>0.101328</td>\n",
       "      <td>0.080939</td>\n",
       "      <td>0.067589</td>\n",
       "      <td>0.082997</td>\n",
       "      <td>1.000000</td>\n",
       "      <td>0.166733</td>\n",
       "      <td>0.400660</td>\n",
       "    </tr>\n",
       "    <tr>\n",
       "      <th>blood_glucose_level</th>\n",
       "      <td>0.110631</td>\n",
       "      <td>0.084429</td>\n",
       "      <td>0.070066</td>\n",
       "      <td>0.091261</td>\n",
       "      <td>0.166733</td>\n",
       "      <td>1.000000</td>\n",
       "      <td>0.419558</td>\n",
       "    </tr>\n",
       "    <tr>\n",
       "      <th>diabetes</th>\n",
       "      <td>0.257933</td>\n",
       "      <td>0.197823</td>\n",
       "      <td>0.171727</td>\n",
       "      <td>0.214357</td>\n",
       "      <td>0.400660</td>\n",
       "      <td>0.419558</td>\n",
       "      <td>1.000000</td>\n",
       "    </tr>\n",
       "  </tbody>\n",
       "</table>\n",
       "</div>"
      ],
      "text/plain": [
       "                          age  hypertension  heart_disease       bmi  \\\n",
       "age                  1.000000      0.251093       0.233254  0.337747   \n",
       "hypertension         0.251093      1.000000       0.121262  0.147666   \n",
       "heart_disease        0.233254      0.121262       1.000000  0.061198   \n",
       "bmi                  0.337747      0.147666       0.061198  1.000000   \n",
       "HbA1c_level          0.101328      0.080939       0.067589  0.082997   \n",
       "blood_glucose_level  0.110631      0.084429       0.070066  0.091261   \n",
       "diabetes             0.257933      0.197823       0.171727  0.214357   \n",
       "\n",
       "                     HbA1c_level  blood_glucose_level  diabetes  \n",
       "age                     0.101328             0.110631  0.257933  \n",
       "hypertension            0.080939             0.084429  0.197823  \n",
       "heart_disease           0.067589             0.070066  0.171727  \n",
       "bmi                     0.082997             0.091261  0.214357  \n",
       "HbA1c_level             1.000000             0.166733  0.400660  \n",
       "blood_glucose_level     0.166733             1.000000  0.419558  \n",
       "diabetes                0.400660             0.419558  1.000000  "
      ]
     },
     "execution_count": 32,
     "metadata": {},
     "output_type": "execute_result"
    }
   ],
   "source": [
    "df.corr()"
   ]
  },
  {
   "cell_type": "code",
   "execution_count": 33,
   "id": "e73f74df",
   "metadata": {
    "execution": {
     "iopub.execute_input": "2023-05-07T11:51:30.513602Z",
     "iopub.status.busy": "2023-05-07T11:51:30.512756Z",
     "iopub.status.idle": "2023-05-07T11:51:30.829585Z",
     "shell.execute_reply": "2023-05-07T11:51:30.828267Z"
    },
    "papermill": {
     "duration": 0.335689,
     "end_time": "2023-05-07T11:51:30.831621",
     "exception": false,
     "start_time": "2023-05-07T11:51:30.495932",
     "status": "completed"
    },
    "tags": []
   },
   "outputs": [
    {
     "data": {
      "image/png": "[encoded data removed]",
      "text/plain": [
       "<Figure size 432x288 with 2 Axes>"
      ]
     },
     "metadata": {
      "needs_background": "light"
     },
     "output_type": "display_data"
    }
   ],
   "source": [
    "sns.heatmap(df.corr(), annot = True, cmap = 'coolwarm')\n",
    "plt.show()"
   ]
  },
  {
   "cell_type": "markdown",
   "id": "aa7cec68",
   "metadata": {
    "papermill": {
     "duration": 0.016592,
     "end_time": "2023-05-07T11:51:30.864938",
     "exception": false,
     "start_time": "2023-05-07T11:51:30.848346",
     "status": "completed"
    },
    "tags": []
   },
   "source": [
    "Finally from the Heatmap we can see that there does not exist an evidence for collinearity prima facie.\n",
    "\n",
    "While there can be multicollinearity, we would need the help of subject matter expert to find it as there is no high correlation, that is > 0.7, in our given data set with which we can find collinearity."
   ]
  },
  {
   "cell_type": "markdown",
   "id": "9bb3aee6",
   "metadata": {
    "papermill": {
     "duration": 0.016623,
     "end_time": "2023-05-07T11:51:30.898659",
     "exception": false,
     "start_time": "2023-05-07T11:51:30.882036",
     "status": "completed"
    },
    "tags": []
   },
   "source": [
    "Overall there are no correlations across the predictors and we can use the data for various models"
   ]
  },
  {
   "cell_type": "markdown",
   "id": "4c3ec9b3",
   "metadata": {
    "papermill": {
     "duration": 0.016316,
     "end_time": "2023-05-07T11:51:30.932000",
     "exception": false,
     "start_time": "2023-05-07T11:51:30.915684",
     "status": "completed"
    },
    "tags": []
   },
   "source": [
    "## Models : Supervised Learning"
   ]
  },
  {
   "cell_type": "code",
   "execution_count": 34,
   "id": "58a098c0",
   "metadata": {
    "execution": {
     "iopub.execute_input": "2023-05-07T11:51:30.967235Z",
     "iopub.status.busy": "2023-05-07T11:51:30.966890Z",
     "iopub.status.idle": "2023-05-07T11:51:31.463717Z",
     "shell.execute_reply": "2023-05-07T11:51:31.462672Z"
    },
    "papermill": {
     "duration": 0.516545,
     "end_time": "2023-05-07T11:51:31.465982",
     "exception": false,
     "start_time": "2023-05-07T11:51:30.949437",
     "status": "completed"
    },
    "tags": []
   },
   "outputs": [],
   "source": [
    "from sklearn.model_selection import train_test_split\n",
    "from sklearn.linear_model import LogisticRegression\n",
    "import time\n",
    "from sklearn.metrics import f1_score\n",
    "from sklearn.ensemble import RandomForestClassifier as RF\n",
    "from sklearn.model_selection import GridSearchCV\n",
    "from sklearn.ensemble import AdaBoostClassifier\n",
    "from sklearn.svm import LinearSVC\n",
    "from sklearn.metrics import confusion_matrix"
   ]
  },
  {
   "cell_type": "code",
   "execution_count": 35,
   "id": "415622c6",
   "metadata": {
    "execution": {
     "iopub.execute_input": "2023-05-07T11:51:31.500506Z",
     "iopub.status.busy": "2023-05-07T11:51:31.500149Z",
     "iopub.status.idle": "2023-05-07T11:51:31.530055Z",
     "shell.execute_reply": "2023-05-07T11:51:31.529111Z"
    },
    "papermill": {
     "duration": 0.049588,
     "end_time": "2023-05-07T11:51:31.532136",
     "exception": false,
     "start_time": "2023-05-07T11:51:31.482548",
     "status": "completed"
    },
    "tags": []
   },
   "outputs": [],
   "source": [
    "design_matrix = df.iloc[:,:-1]\n",
    "design_matrix = pd.get_dummies(design_matrix, columns= ['gender'], drop_first=True)\n",
    "response_y = df.iloc[:,-1]\n",
    "train_x, test_x, train_y, test_y = train_test_split(design_matrix, response_y, test_size = 0.2, random_state = 110)"
   ]
  },
  {
   "cell_type": "code",
   "execution_count": 36,
   "id": "44790f54",
   "metadata": {
    "execution": {
     "iopub.execute_input": "2023-05-07T11:51:31.565982Z",
     "iopub.status.busy": "2023-05-07T11:51:31.565677Z",
     "iopub.status.idle": "2023-05-07T11:51:31.570627Z",
     "shell.execute_reply": "2023-05-07T11:51:31.569515Z"
    },
    "papermill": {
     "duration": 0.023581,
     "end_time": "2023-05-07T11:51:31.572138",
     "exception": false,
     "start_time": "2023-05-07T11:51:31.548557",
     "status": "completed"
    },
    "tags": []
   },
   "outputs": [
    {
     "name": "stdout",
     "output_type": "stream",
     "text": [
      "(80000, 8)\n",
      "(20000, 8)\n",
      "(80000,)\n",
      "(20000,)\n"
     ]
    }
   ],
   "source": [
    "print(train_x.shape)\n",
    "print(test_x.shape)\n",
    "print(train_y.shape)\n",
    "print(test_y.shape)"
   ]
  },
  {
   "cell_type": "code",
   "execution_count": 37,
   "id": "5e58680f",
   "metadata": {
    "execution": {
     "iopub.execute_input": "2023-05-07T11:51:31.605746Z",
     "iopub.status.busy": "2023-05-07T11:51:31.605375Z",
     "iopub.status.idle": "2023-05-07T11:51:31.620385Z",
     "shell.execute_reply": "2023-05-07T11:51:31.619397Z"
    },
    "papermill": {
     "duration": 0.034032,
     "end_time": "2023-05-07T11:51:31.622121",
     "exception": false,
     "start_time": "2023-05-07T11:51:31.588089",
     "status": "completed"
    },
    "tags": []
   },
   "outputs": [
    {
     "data": {
      "text/html": [
       "<div>\n",
       "<style scoped>\n",
       "    .dataframe tbody tr th:only-of-type {\n",
       "        vertical-align: middle;\n",
       "    }\n",
       "\n",
       "    .dataframe tbody tr th {\n",
       "        vertical-align: top;\n",
       "    }\n",
       "\n",
       "    .dataframe thead th {\n",
       "        text-align: right;\n",
       "    }\n",
       "</style>\n",
       "<table border=\"1\" class=\"dataframe\">\n",
       "  <thead>\n",
       "    <tr style=\"text-align: right;\">\n",
       "      <th></th>\n",
       "      <th>age</th>\n",
       "      <th>hypertension</th>\n",
       "      <th>heart_disease</th>\n",
       "      <th>bmi</th>\n",
       "      <th>HbA1c_level</th>\n",
       "      <th>blood_glucose_level</th>\n",
       "      <th>gender_Male</th>\n",
       "      <th>gender_Other</th>\n",
       "    </tr>\n",
       "  </thead>\n",
       "  <tbody>\n",
       "    <tr>\n",
       "      <th>0</th>\n",
       "      <td>80</td>\n",
       "      <td>0</td>\n",
       "      <td>1</td>\n",
       "      <td>25.19</td>\n",
       "      <td>6.6</td>\n",
       "      <td>140.0</td>\n",
       "      <td>0</td>\n",
       "      <td>0</td>\n",
       "    </tr>\n",
       "    <tr>\n",
       "      <th>1</th>\n",
       "      <td>54</td>\n",
       "      <td>0</td>\n",
       "      <td>0</td>\n",
       "      <td>27.32</td>\n",
       "      <td>6.6</td>\n",
       "      <td>80.0</td>\n",
       "      <td>0</td>\n",
       "      <td>0</td>\n",
       "    </tr>\n",
       "    <tr>\n",
       "      <th>2</th>\n",
       "      <td>28</td>\n",
       "      <td>0</td>\n",
       "      <td>0</td>\n",
       "      <td>27.32</td>\n",
       "      <td>5.7</td>\n",
       "      <td>158.0</td>\n",
       "      <td>1</td>\n",
       "      <td>0</td>\n",
       "    </tr>\n",
       "    <tr>\n",
       "      <th>3</th>\n",
       "      <td>36</td>\n",
       "      <td>0</td>\n",
       "      <td>0</td>\n",
       "      <td>23.45</td>\n",
       "      <td>5.0</td>\n",
       "      <td>155.0</td>\n",
       "      <td>0</td>\n",
       "      <td>0</td>\n",
       "    </tr>\n",
       "    <tr>\n",
       "      <th>4</th>\n",
       "      <td>76</td>\n",
       "      <td>1</td>\n",
       "      <td>1</td>\n",
       "      <td>20.14</td>\n",
       "      <td>4.8</td>\n",
       "      <td>155.0</td>\n",
       "      <td>1</td>\n",
       "      <td>0</td>\n",
       "    </tr>\n",
       "    <tr>\n",
       "      <th>...</th>\n",
       "      <td>...</td>\n",
       "      <td>...</td>\n",
       "      <td>...</td>\n",
       "      <td>...</td>\n",
       "      <td>...</td>\n",
       "      <td>...</td>\n",
       "      <td>...</td>\n",
       "      <td>...</td>\n",
       "    </tr>\n",
       "    <tr>\n",
       "      <th>99995</th>\n",
       "      <td>80</td>\n",
       "      <td>0</td>\n",
       "      <td>0</td>\n",
       "      <td>27.32</td>\n",
       "      <td>6.2</td>\n",
       "      <td>90.0</td>\n",
       "      <td>0</td>\n",
       "      <td>0</td>\n",
       "    </tr>\n",
       "    <tr>\n",
       "      <th>99996</th>\n",
       "      <td>2</td>\n",
       "      <td>0</td>\n",
       "      <td>0</td>\n",
       "      <td>17.37</td>\n",
       "      <td>6.5</td>\n",
       "      <td>100.0</td>\n",
       "      <td>0</td>\n",
       "      <td>0</td>\n",
       "    </tr>\n",
       "    <tr>\n",
       "      <th>99997</th>\n",
       "      <td>66</td>\n",
       "      <td>0</td>\n",
       "      <td>0</td>\n",
       "      <td>27.83</td>\n",
       "      <td>5.7</td>\n",
       "      <td>155.0</td>\n",
       "      <td>1</td>\n",
       "      <td>0</td>\n",
       "    </tr>\n",
       "    <tr>\n",
       "      <th>99998</th>\n",
       "      <td>24</td>\n",
       "      <td>0</td>\n",
       "      <td>0</td>\n",
       "      <td>35.42</td>\n",
       "      <td>4.0</td>\n",
       "      <td>100.0</td>\n",
       "      <td>0</td>\n",
       "      <td>0</td>\n",
       "    </tr>\n",
       "    <tr>\n",
       "      <th>99999</th>\n",
       "      <td>57</td>\n",
       "      <td>0</td>\n",
       "      <td>0</td>\n",
       "      <td>22.43</td>\n",
       "      <td>6.6</td>\n",
       "      <td>90.0</td>\n",
       "      <td>0</td>\n",
       "      <td>0</td>\n",
       "    </tr>\n",
       "  </tbody>\n",
       "</table>\n",
       "<p>100000 rows × 8 columns</p>\n",
       "</div>"
      ],
      "text/plain": [
       "       age  hypertension  heart_disease    bmi  HbA1c_level  \\\n",
       "0       80             0              1  25.19          6.6   \n",
       "1       54             0              0  27.32          6.6   \n",
       "2       28             0              0  27.32          5.7   \n",
       "3       36             0              0  23.45          5.0   \n",
       "4       76             1              1  20.14          4.8   \n",
       "...    ...           ...            ...    ...          ...   \n",
       "99995   80             0              0  27.32          6.2   \n",
       "99996    2             0              0  17.37          6.5   \n",
       "99997   66             0              0  27.83          5.7   \n",
       "99998   24             0              0  35.42          4.0   \n",
       "99999   57             0              0  22.43          6.6   \n",
       "\n",
       "       blood_glucose_level  gender_Male  gender_Other  \n",
       "0                    140.0            0             0  \n",
       "1                     80.0            0             0  \n",
       "2                    158.0            1             0  \n",
       "3                    155.0            0             0  \n",
       "4                    155.0            1             0  \n",
       "...                    ...          ...           ...  \n",
       "99995                 90.0            0             0  \n",
       "99996                100.0            0             0  \n",
       "99997                155.0            1             0  \n",
       "99998                100.0            0             0  \n",
       "99999                 90.0            0             0  \n",
       "\n",
       "[100000 rows x 8 columns]"
      ]
     },
     "execution_count": 37,
     "metadata": {},
     "output_type": "execute_result"
    }
   ],
   "source": [
    "design_matrix"
   ]
  },
  {
   "cell_type": "code",
   "execution_count": 38,
   "id": "f42ad23f",
   "metadata": {
    "execution": {
     "iopub.execute_input": "2023-05-07T11:51:31.658179Z",
     "iopub.status.busy": "2023-05-07T11:51:31.656745Z",
     "iopub.status.idle": "2023-05-07T11:51:31.664738Z",
     "shell.execute_reply": "2023-05-07T11:51:31.663892Z"
    },
    "papermill": {
     "duration": 0.027392,
     "end_time": "2023-05-07T11:51:31.666399",
     "exception": false,
     "start_time": "2023-05-07T11:51:31.639007",
     "status": "completed"
    },
    "tags": []
   },
   "outputs": [
    {
     "data": {
      "text/plain": [
       "0        0\n",
       "1        0\n",
       "2        0\n",
       "3        0\n",
       "4        0\n",
       "        ..\n",
       "99995    0\n",
       "99996    0\n",
       "99997    0\n",
       "99998    0\n",
       "99999    0\n",
       "Name: diabetes, Length: 100000, dtype: int64"
      ]
     },
     "execution_count": 38,
     "metadata": {},
     "output_type": "execute_result"
    }
   ],
   "source": [
    "response_y"
   ]
  },
  {
   "cell_type": "code",
   "execution_count": 39,
   "id": "9883ebcd",
   "metadata": {
    "execution": {
     "iopub.execute_input": "2023-05-07T11:51:31.701638Z",
     "iopub.status.busy": "2023-05-07T11:51:31.701240Z",
     "iopub.status.idle": "2023-05-07T11:51:31.713491Z",
     "shell.execute_reply": "2023-05-07T11:51:31.712742Z"
    },
    "papermill": {
     "duration": 0.031676,
     "end_time": "2023-05-07T11:51:31.715064",
     "exception": false,
     "start_time": "2023-05-07T11:51:31.683388",
     "status": "completed"
    },
    "tags": []
   },
   "outputs": [
    {
     "data": {
      "text/html": [
       "<div>\n",
       "<style scoped>\n",
       "    .dataframe tbody tr th:only-of-type {\n",
       "        vertical-align: middle;\n",
       "    }\n",
       "\n",
       "    .dataframe tbody tr th {\n",
       "        vertical-align: top;\n",
       "    }\n",
       "\n",
       "    .dataframe thead th {\n",
       "        text-align: right;\n",
       "    }\n",
       "</style>\n",
       "<table border=\"1\" class=\"dataframe\">\n",
       "  <thead>\n",
       "    <tr style=\"text-align: right;\">\n",
       "      <th></th>\n",
       "      <th>age</th>\n",
       "      <th>hypertension</th>\n",
       "      <th>heart_disease</th>\n",
       "      <th>bmi</th>\n",
       "      <th>HbA1c_level</th>\n",
       "      <th>blood_glucose_level</th>\n",
       "      <th>gender_Male</th>\n",
       "      <th>gender_Other</th>\n",
       "    </tr>\n",
       "  </thead>\n",
       "  <tbody>\n",
       "    <tr>\n",
       "      <th>92937</th>\n",
       "      <td>0</td>\n",
       "      <td>0</td>\n",
       "      <td>0</td>\n",
       "      <td>18.14</td>\n",
       "      <td>5.0</td>\n",
       "      <td>85.0</td>\n",
       "      <td>1</td>\n",
       "      <td>0</td>\n",
       "    </tr>\n",
       "    <tr>\n",
       "      <th>76194</th>\n",
       "      <td>66</td>\n",
       "      <td>0</td>\n",
       "      <td>0</td>\n",
       "      <td>27.32</td>\n",
       "      <td>4.0</td>\n",
       "      <td>155.0</td>\n",
       "      <td>0</td>\n",
       "      <td>0</td>\n",
       "    </tr>\n",
       "    <tr>\n",
       "      <th>93411</th>\n",
       "      <td>27</td>\n",
       "      <td>0</td>\n",
       "      <td>0</td>\n",
       "      <td>34.50</td>\n",
       "      <td>6.1</td>\n",
       "      <td>130.0</td>\n",
       "      <td>1</td>\n",
       "      <td>0</td>\n",
       "    </tr>\n",
       "    <tr>\n",
       "      <th>57862</th>\n",
       "      <td>1</td>\n",
       "      <td>0</td>\n",
       "      <td>0</td>\n",
       "      <td>10.62</td>\n",
       "      <td>3.5</td>\n",
       "      <td>200.0</td>\n",
       "      <td>1</td>\n",
       "      <td>0</td>\n",
       "    </tr>\n",
       "    <tr>\n",
       "      <th>12047</th>\n",
       "      <td>51</td>\n",
       "      <td>0</td>\n",
       "      <td>0</td>\n",
       "      <td>41.53</td>\n",
       "      <td>6.0</td>\n",
       "      <td>158.0</td>\n",
       "      <td>1</td>\n",
       "      <td>0</td>\n",
       "    </tr>\n",
       "  </tbody>\n",
       "</table>\n",
       "</div>"
      ],
      "text/plain": [
       "       age  hypertension  heart_disease    bmi  HbA1c_level  \\\n",
       "92937    0             0              0  18.14          5.0   \n",
       "76194   66             0              0  27.32          4.0   \n",
       "93411   27             0              0  34.50          6.1   \n",
       "57862    1             0              0  10.62          3.5   \n",
       "12047   51             0              0  41.53          6.0   \n",
       "\n",
       "       blood_glucose_level  gender_Male  gender_Other  \n",
       "92937                 85.0            1             0  \n",
       "76194                155.0            0             0  \n",
       "93411                130.0            1             0  \n",
       "57862                200.0            1             0  \n",
       "12047                158.0            1             0  "
      ]
     },
     "execution_count": 39,
     "metadata": {},
     "output_type": "execute_result"
    }
   ],
   "source": [
    "train_x.head()"
   ]
  },
  {
   "cell_type": "code",
   "execution_count": 40,
   "id": "cfbf8c92",
   "metadata": {
    "execution": {
     "iopub.execute_input": "2023-05-07T11:51:31.751389Z",
     "iopub.status.busy": "2023-05-07T11:51:31.750959Z",
     "iopub.status.idle": "2023-05-07T11:51:31.757952Z",
     "shell.execute_reply": "2023-05-07T11:51:31.757136Z"
    },
    "papermill": {
     "duration": 0.027605,
     "end_time": "2023-05-07T11:51:31.760274",
     "exception": false,
     "start_time": "2023-05-07T11:51:31.732669",
     "status": "completed"
    },
    "tags": []
   },
   "outputs": [
    {
     "data": {
      "text/plain": [
       "92937    0\n",
       "76194    0\n",
       "93411    0\n",
       "57862    0\n",
       "12047    0\n",
       "        ..\n",
       "39293    0\n",
       "42255    0\n",
       "34877    0\n",
       "75491    0\n",
       "2176     1\n",
       "Name: diabetes, Length: 80000, dtype: int64"
      ]
     },
     "execution_count": 40,
     "metadata": {},
     "output_type": "execute_result"
    }
   ],
   "source": [
    "train_y"
   ]
  },
  {
   "cell_type": "code",
   "execution_count": 41,
   "id": "d2f34745",
   "metadata": {
    "execution": {
     "iopub.execute_input": "2023-05-07T11:51:31.798980Z",
     "iopub.status.busy": "2023-05-07T11:51:31.798444Z",
     "iopub.status.idle": "2023-05-07T11:51:31.802810Z",
     "shell.execute_reply": "2023-05-07T11:51:31.801759Z"
    },
    "papermill": {
     "duration": 0.02559,
     "end_time": "2023-05-07T11:51:31.804683",
     "exception": false,
     "start_time": "2023-05-07T11:51:31.779093",
     "status": "completed"
    },
    "tags": []
   },
   "outputs": [],
   "source": [
    "scores = dict()\n",
    "time_models = dict()\n",
    "f1 = dict()"
   ]
  },
  {
   "cell_type": "markdown",
   "id": "e1b9ed3e",
   "metadata": {
    "papermill": {
     "duration": 0.017314,
     "end_time": "2023-05-07T11:51:31.839841",
     "exception": false,
     "start_time": "2023-05-07T11:51:31.822527",
     "status": "completed"
    },
    "tags": []
   },
   "source": [
    "### Logistic Regression"
   ]
  },
  {
   "cell_type": "code",
   "execution_count": 42,
   "id": "1febdba1",
   "metadata": {
    "execution": {
     "iopub.execute_input": "2023-05-07T11:51:31.877224Z",
     "iopub.status.busy": "2023-05-07T11:51:31.876646Z",
     "iopub.status.idle": "2023-05-07T11:51:32.369623Z",
     "shell.execute_reply": "2023-05-07T11:51:32.368798Z"
    },
    "papermill": {
     "duration": 0.514195,
     "end_time": "2023-05-07T11:51:32.371720",
     "exception": false,
     "start_time": "2023-05-07T11:51:31.857525",
     "status": "completed"
    },
    "tags": []
   },
   "outputs": [
    {
     "name": "stdout",
     "output_type": "stream",
     "text": [
      "Model Runnign Time 0.44324254989624023\n",
      "0.9607\n"
     ]
    }
   ],
   "source": [
    "#Logistic Regression is based on 8 Predictors only and since there was no correlation across the predictors there will be \n",
    "#no need of Feature selection for the Logistic Regression\n",
    "\n",
    "t0 = time.time()\n",
    "lr_model = LogisticRegression(solver='liblinear', random_state = 110).fit(train_x, train_y)\n",
    "t1 = time.time()\n",
    "print('Model Runnign Time',t1-t0)\n",
    "\n",
    "lr_score = lr_model.score(test_x, test_y)\n",
    "scores['Logistic Regression'] = lr_score\n",
    "print(lr_score)\n",
    "time_models['Logistic Regression'] = t1-t0\n",
    "f1['Logistic Regression'] = f1_score(test_y, lr_model.predict(test_x))"
   ]
  },
  {
   "cell_type": "markdown",
   "id": "dd1a7503",
   "metadata": {
    "papermill": {
     "duration": 0.025964,
     "end_time": "2023-05-07T11:51:32.426791",
     "exception": false,
     "start_time": "2023-05-07T11:51:32.400827",
     "status": "completed"
    },
    "tags": []
   },
   "source": [
    "### Random Forest"
   ]
  },
  {
   "cell_type": "code",
   "execution_count": 43,
   "id": "251d54be",
   "metadata": {
    "execution": {
     "iopub.execute_input": "2023-05-07T11:51:32.472492Z",
     "iopub.status.busy": "2023-05-07T11:51:32.472149Z",
     "iopub.status.idle": "2023-05-07T11:51:32.476030Z",
     "shell.execute_reply": "2023-05-07T11:51:32.475232Z"
    },
    "papermill": {
     "duration": 0.028579,
     "end_time": "2023-05-07T11:51:32.477711",
     "exception": false,
     "start_time": "2023-05-07T11:51:32.449132",
     "status": "completed"
    },
    "scrolled": true,
    "tags": []
   },
   "outputs": [],
   "source": [
    "#Note: Grid Search will take too much time. I was able to wait but since the model below is made of the best parameters from\n",
    "#Grid Search you can try and adjust the model to test if they are true best parameter\n",
    "\n",
    "# paras_rf = {'n_estimators':[10,20,30,40,50,100], 'min_samples_leaf' : [2,3,5,8,10], 'max_features': ['sqrt', 'log2'], 'max_depth':[5,10,15,20,30]}\n",
    "# grid = GridSearchCV(RF(), paras_rf).fit(train_x, train_y)"
   ]
  },
  {
   "cell_type": "code",
   "execution_count": 44,
   "id": "bbbc52a1",
   "metadata": {
    "execution": {
     "iopub.execute_input": "2023-05-07T11:51:32.512614Z",
     "iopub.status.busy": "2023-05-07T11:51:32.511997Z",
     "iopub.status.idle": "2023-05-07T11:51:33.608261Z",
     "shell.execute_reply": "2023-05-07T11:51:33.607207Z"
    },
    "papermill": {
     "duration": 1.115306,
     "end_time": "2023-05-07T11:51:33.609980",
     "exception": false,
     "start_time": "2023-05-07T11:51:32.494674",
     "status": "completed"
    },
    "tags": []
   },
   "outputs": [
    {
     "name": "stdout",
     "output_type": "stream",
     "text": [
      "Model Runnign Time 0.7971396446228027\n",
      "Score 0.97185\n"
     ]
    }
   ],
   "source": [
    "t0 = time.time()\n",
    "rf_model = RF(n_estimators = 30, min_samples_leaf = 8, max_features='sqrt', max_depth = 5,  random_state = 110).fit(train_x, train_y)\n",
    "t1 = time.time()\n",
    "\n",
    "print('Model Runnign Time',t1-t0)\n",
    "print('Score', rf_model.score(test_x, test_y))\n",
    "time_models['Random Forest'] = t1-t0\n",
    "scores['Random Forest'] = rf_model.score(test_x, test_y)\n",
    "f1['Random Forest'] = f1_score(test_y, rf_model.predict(test_x))"
   ]
  },
  {
   "cell_type": "markdown",
   "id": "9b42e88e",
   "metadata": {
    "papermill": {
     "duration": 0.017051,
     "end_time": "2023-05-07T11:51:33.644554",
     "exception": false,
     "start_time": "2023-05-07T11:51:33.627503",
     "status": "completed"
    },
    "tags": []
   },
   "source": [
    "## Adaboost"
   ]
  },
  {
   "cell_type": "code",
   "execution_count": 45,
   "id": "61b5b1ba",
   "metadata": {
    "execution": {
     "iopub.execute_input": "2023-05-07T11:51:33.680168Z",
     "iopub.status.busy": "2023-05-07T11:51:33.679864Z",
     "iopub.status.idle": "2023-05-07T11:51:33.683448Z",
     "shell.execute_reply": "2023-05-07T11:51:33.682584Z"
    },
    "papermill": {
     "duration": 0.023231,
     "end_time": "2023-05-07T11:51:33.684965",
     "exception": false,
     "start_time": "2023-05-07T11:51:33.661734",
     "status": "completed"
    },
    "tags": []
   },
   "outputs": [],
   "source": [
    "#Grid Search is very time consuming and may take a lot of time. Please proceed with caution if you want to test it\n",
    "#Moreover n_estimators = 100 and learning_rate = 0.5 was the best parameters. To get them it took me 1 hour and when I\n",
    "#tried increased range of learning rates it was too time consuming that's why n_estimators have been taken as 100 below to\n",
    "#skip at least one parameter\n",
    "\n",
    "#paras_ada = {'learning_rate': [0.1,0.2,0.3,0.4,0.5,0.6,0.7,0.8,1,1.2,1.4,2,3]}\n",
    "#grid = GridSearchCV(AdaBoostClassifier(n_estimators = 100), paras_ada).fit(train_x#, train_y)\n",
    "#grid.best_params_"
   ]
  },
  {
   "cell_type": "code",
   "execution_count": 46,
   "id": "2e488729",
   "metadata": {
    "execution": {
     "iopub.execute_input": "2023-05-07T11:51:33.722282Z",
     "iopub.status.busy": "2023-05-07T11:51:33.721766Z",
     "iopub.status.idle": "2023-05-07T11:51:38.256902Z",
     "shell.execute_reply": "2023-05-07T11:51:38.255456Z"
    },
    "papermill": {
     "duration": 4.556202,
     "end_time": "2023-05-07T11:51:38.259048",
     "exception": false,
     "start_time": "2023-05-07T11:51:33.702846",
     "status": "completed"
    },
    "tags": []
   },
   "outputs": [
    {
     "name": "stdout",
     "output_type": "stream",
     "text": [
      "Model Runnign Time 3.589845895767212\n"
     ]
    }
   ],
   "source": [
    "t0 = time.time()\n",
    "ada_model = AdaBoostClassifier(n_estimators=100, learning_rate=0.5, random_state = 110).fit(train_x, train_y)\n",
    "t1 = time.time()\n",
    "print('Model Runnign Time',t1-t0)\n",
    "time_models['Ada Boost'] = t1-t0\n",
    "f1['Ada Boost'] = f1_score(test_y, ada_model.predict(test_x))"
   ]
  },
  {
   "cell_type": "code",
   "execution_count": 47,
   "id": "ed619409",
   "metadata": {
    "execution": {
     "iopub.execute_input": "2023-05-07T11:51:38.296015Z",
     "iopub.status.busy": "2023-05-07T11:51:38.295204Z",
     "iopub.status.idle": "2023-05-07T11:51:38.702692Z",
     "shell.execute_reply": "2023-05-07T11:51:38.701767Z"
    },
    "papermill": {
     "duration": 0.428092,
     "end_time": "2023-05-07T11:51:38.704550",
     "exception": false,
     "start_time": "2023-05-07T11:51:38.276458",
     "status": "completed"
    },
    "tags": []
   },
   "outputs": [
    {
     "name": "stdout",
     "output_type": "stream",
     "text": [
      "Score 0.9724\n"
     ]
    }
   ],
   "source": [
    "print('Score',ada_model.score(test_x, test_y))\n",
    "scores['Ada Boost'] = ada_model.score(test_x, test_y)"
   ]
  },
  {
   "cell_type": "markdown",
   "id": "61d4d3ba",
   "metadata": {
    "papermill": {
     "duration": 0.016879,
     "end_time": "2023-05-07T11:51:38.740702",
     "exception": false,
     "start_time": "2023-05-07T11:51:38.723823",
     "status": "completed"
    },
    "tags": []
   },
   "source": [
    "### Multinomial Naive Bayes"
   ]
  },
  {
   "cell_type": "code",
   "execution_count": 48,
   "id": "c3c356d2",
   "metadata": {
    "execution": {
     "iopub.execute_input": "2023-05-07T11:51:38.776401Z",
     "iopub.status.busy": "2023-05-07T11:51:38.776028Z",
     "iopub.status.idle": "2023-05-07T11:51:38.826601Z",
     "shell.execute_reply": "2023-05-07T11:51:38.825786Z"
    },
    "papermill": {
     "duration": 0.071292,
     "end_time": "2023-05-07T11:51:38.829066",
     "exception": false,
     "start_time": "2023-05-07T11:51:38.757774",
     "status": "completed"
    },
    "tags": []
   },
   "outputs": [
    {
     "name": "stdout",
     "output_type": "stream",
     "text": [
      "Model Runnign Time 0.022454023361206055\n",
      "Score 0.905\n"
     ]
    }
   ],
   "source": [
    "from sklearn.naive_bayes import MultinomialNB\n",
    "t0 = time.time()\n",
    "naive_multimonial_model = MultinomialNB().fit(train_x, train_y)\n",
    "t1 = time.time()\n",
    "print('Model Runnign Time',t1-t0)\n",
    "time_models['Multinomial Naive Bayes'] = t1-t0\n",
    "print('Score',naive_multimonial_model.score(test_x, test_y))\n",
    "scores['Multinomial Naive Bayes'] = naive_multimonial_model.score(test_x, test_y)\n",
    "f1['Multinomial Naive Bayes'] = f1_score(test_y, naive_multimonial_model.predict(test_x))"
   ]
  },
  {
   "cell_type": "markdown",
   "id": "7da9a81a",
   "metadata": {
    "papermill": {
     "duration": 0.022801,
     "end_time": "2023-05-07T11:51:38.874792",
     "exception": false,
     "start_time": "2023-05-07T11:51:38.851991",
     "status": "completed"
    },
    "tags": []
   },
   "source": [
    "### Gaussian Naive Bayes"
   ]
  },
  {
   "cell_type": "code",
   "execution_count": 49,
   "id": "1de5643e",
   "metadata": {
    "execution": {
     "iopub.execute_input": "2023-05-07T11:51:38.921079Z",
     "iopub.status.busy": "2023-05-07T11:51:38.920585Z",
     "iopub.status.idle": "2023-05-07T11:51:38.958467Z",
     "shell.execute_reply": "2023-05-07T11:51:38.957587Z"
    },
    "papermill": {
     "duration": 0.063011,
     "end_time": "2023-05-07T11:51:38.960196",
     "exception": false,
     "start_time": "2023-05-07T11:51:38.897185",
     "status": "completed"
    },
    "tags": []
   },
   "outputs": [
    {
     "name": "stdout",
     "output_type": "stream",
     "text": [
      "Model Runnign Time 0.030254602432250977\n",
      "Score 0.89155\n"
     ]
    }
   ],
   "source": [
    "from sklearn.naive_bayes import GaussianNB\n",
    "t0 = time.time()\n",
    "naive_guass_model = GaussianNB().fit(train_x, train_y)\n",
    "t1 = time.time()\n",
    "print('Model Runnign Time',t1-t0)\n",
    "time_models['Gaussian Naive Bayes'] = t1-t0\n",
    "print('Score',naive_guass_model.score(test_x, test_y))\n",
    "scores['Gaussian Naive Bayes'] = naive_guass_model.score(test_x, test_y)\n",
    "f1['Gaussian Naive Bayes'] = f1_score(test_y, naive_guass_model.predict(test_x))"
   ]
  },
  {
   "cell_type": "code",
   "execution_count": null,
   "id": "54df3b4e",
   "metadata": {
    "papermill": {
     "duration": 0.017297,
     "end_time": "2023-05-07T11:51:38.995401",
     "exception": false,
     "start_time": "2023-05-07T11:51:38.978104",
     "status": "completed"
    },
    "tags": []
   },
   "outputs": [],
   "source": []
  },
  {
   "cell_type": "markdown",
   "id": "f755dbd6",
   "metadata": {
    "papermill": {
     "duration": 0.017411,
     "end_time": "2023-05-07T11:51:39.030158",
     "exception": false,
     "start_time": "2023-05-07T11:51:39.012747",
     "status": "completed"
    },
    "tags": []
   },
   "source": [
    "## Linear Support Vector Machine"
   ]
  },
  {
   "cell_type": "code",
   "execution_count": 50,
   "id": "32257837",
   "metadata": {
    "execution": {
     "iopub.execute_input": "2023-05-07T11:51:39.066153Z",
     "iopub.status.busy": "2023-05-07T11:51:39.065852Z",
     "iopub.status.idle": "2023-05-07T11:51:39.390659Z",
     "shell.execute_reply": "2023-05-07T11:51:39.388592Z"
    },
    "papermill": {
     "duration": 0.345317,
     "end_time": "2023-05-07T11:51:39.392766",
     "exception": false,
     "start_time": "2023-05-07T11:51:39.047449",
     "status": "completed"
    },
    "tags": []
   },
   "outputs": [
    {
     "name": "stdout",
     "output_type": "stream",
     "text": [
      "Model Runnign Time 0.2573249340057373\n",
      "Score 0.96125\n"
     ]
    }
   ],
   "source": [
    "#Note, any other option for the parameter for the linear SVC is not applicable as number of predictors are quite less\n",
    "#I was not even able to run SVC function because of this.\n",
    "t0 = time.time()\n",
    "svm_model = LinearSVC(dual=False, random_state = 110).fit(train_x, train_y)\n",
    "t1 = time.time()\n",
    "print('Model Runnign Time',t1-t0)\n",
    "time_models['Linear Support Vector Machine'] = t1-t0\n",
    "print('Score',svm_model.score(test_x, test_y))\n",
    "scores['Linear Support Vector Machine'] = svm_model.score(test_x, test_y)\n",
    "f1['Linear Support Vector Machine'] = f1_score(test_y, svm_model.predict(test_x))"
   ]
  },
  {
   "cell_type": "markdown",
   "id": "20d27a9e",
   "metadata": {
    "papermill": {
     "duration": 0.022636,
     "end_time": "2023-05-07T11:51:39.439664",
     "exception": false,
     "start_time": "2023-05-07T11:51:39.417028",
     "status": "completed"
    },
    "tags": []
   },
   "source": [
    "## Model Result Comparison and Summary"
   ]
  },
  {
   "cell_type": "markdown",
   "id": "d6d31325",
   "metadata": {
    "papermill": {
     "duration": 0.02281,
     "end_time": "2023-05-07T11:51:39.485623",
     "exception": false,
     "start_time": "2023-05-07T11:51:39.462813",
     "status": "completed"
    },
    "tags": []
   },
   "source": [
    "Now we have created various models while optimizing their Hyperparameters for the Diabetes Prediction. We are now equipped to suggest the model which will be most useful to use the users like Health Care Professionals."
   ]
  },
  {
   "cell_type": "markdown",
   "id": "7aba041f",
   "metadata": {
    "papermill": {
     "duration": 0.017752,
     "end_time": "2023-05-07T11:51:39.524166",
     "exception": false,
     "start_time": "2023-05-07T11:51:39.506414",
     "status": "completed"
    },
    "tags": []
   },
   "source": [
    "To analyse the result in a tabular form we will create a full DataFrame with Models, Scores(Accuracy), Time, and F1 Scores."
   ]
  },
  {
   "cell_type": "code",
   "execution_count": 51,
   "id": "6d8d5f93",
   "metadata": {
    "execution": {
     "iopub.execute_input": "2023-05-07T11:51:39.561022Z",
     "iopub.status.busy": "2023-05-07T11:51:39.560688Z",
     "iopub.status.idle": "2023-05-07T11:51:39.566256Z",
     "shell.execute_reply": "2023-05-07T11:51:39.564882Z"
    },
    "papermill": {
     "duration": 0.026577,
     "end_time": "2023-05-07T11:51:39.568594",
     "exception": false,
     "start_time": "2023-05-07T11:51:39.542017",
     "status": "completed"
    },
    "tags": []
   },
   "outputs": [
    {
     "data": {
      "text/plain": [
       "{'Logistic Regression': 0.9607,\n",
       " 'Random Forest': 0.97185,\n",
       " 'Ada Boost': 0.9724,\n",
       " 'Multinomial Naive Bayes': 0.905,\n",
       " 'Gaussian Naive Bayes': 0.89155,\n",
       " 'Linear Support Vector Machine': 0.96125}"
      ]
     },
     "execution_count": 51,
     "metadata": {},
     "output_type": "execute_result"
    }
   ],
   "source": [
    "scores"
   ]
  },
  {
   "cell_type": "code",
   "execution_count": 52,
   "id": "fcd87110",
   "metadata": {
    "execution": {
     "iopub.execute_input": "2023-05-07T11:51:39.607684Z",
     "iopub.status.busy": "2023-05-07T11:51:39.607357Z",
     "iopub.status.idle": "2023-05-07T11:51:39.613029Z",
     "shell.execute_reply": "2023-05-07T11:51:39.612066Z"
    },
    "papermill": {
     "duration": 0.028793,
     "end_time": "2023-05-07T11:51:39.615400",
     "exception": false,
     "start_time": "2023-05-07T11:51:39.586607",
     "status": "completed"
    },
    "tags": []
   },
   "outputs": [
    {
     "data": {
      "text/plain": [
       "{'Logistic Regression': 0.44324254989624023,\n",
       " 'Random Forest': 0.7971396446228027,\n",
       " 'Ada Boost': 3.589845895767212,\n",
       " 'Multinomial Naive Bayes': 0.022454023361206055,\n",
       " 'Gaussian Naive Bayes': 0.030254602432250977,\n",
       " 'Linear Support Vector Machine': 0.2573249340057373}"
      ]
     },
     "execution_count": 52,
     "metadata": {},
     "output_type": "execute_result"
    }
   ],
   "source": [
    "time_models"
   ]
  },
  {
   "cell_type": "code",
   "execution_count": 53,
   "id": "51680a32",
   "metadata": {
    "execution": {
     "iopub.execute_input": "2023-05-07T11:51:39.654057Z",
     "iopub.status.busy": "2023-05-07T11:51:39.653708Z",
     "iopub.status.idle": "2023-05-07T11:51:39.659478Z",
     "shell.execute_reply": "2023-05-07T11:51:39.658565Z"
    },
    "papermill": {
     "duration": 0.027047,
     "end_time": "2023-05-07T11:51:39.661085",
     "exception": false,
     "start_time": "2023-05-07T11:51:39.634038",
     "status": "completed"
    },
    "tags": []
   },
   "outputs": [
    {
     "data": {
      "text/plain": [
       "{'Logistic Regression': 0.7192857142857143,\n",
       " 'Random Forest': 0.7969707897583843,\n",
       " 'Ada Boost': 0.8032786885245903,\n",
       " 'Multinomial Naive Bayes': 0.3223965763195435,\n",
       " 'Gaussian Naive Bayes': 0.5382158824781775,\n",
       " 'Linear Support Vector Machine': 0.7186932849364791}"
      ]
     },
     "execution_count": 53,
     "metadata": {},
     "output_type": "execute_result"
    }
   ],
   "source": [
    "f1"
   ]
  },
  {
   "cell_type": "code",
   "execution_count": 54,
   "id": "6ebf22cd",
   "metadata": {
    "execution": {
     "iopub.execute_input": "2023-05-07T11:51:39.698095Z",
     "iopub.status.busy": "2023-05-07T11:51:39.697751Z",
     "iopub.status.idle": "2023-05-07T11:51:39.703142Z",
     "shell.execute_reply": "2023-05-07T11:51:39.701873Z"
    },
    "papermill": {
     "duration": 0.026036,
     "end_time": "2023-05-07T11:51:39.704989",
     "exception": false,
     "start_time": "2023-05-07T11:51:39.678953",
     "status": "completed"
    },
    "tags": []
   },
   "outputs": [],
   "source": [
    "result_df = pd.DataFrame({'Models': scores.keys(), 'Scores':scores.values(), 'Time':time_models.values(), 'F1':f1.values()})"
   ]
  },
  {
   "cell_type": "code",
   "execution_count": 55,
   "id": "82eef3d3",
   "metadata": {
    "execution": {
     "iopub.execute_input": "2023-05-07T11:51:39.746665Z",
     "iopub.status.busy": "2023-05-07T11:51:39.746331Z",
     "iopub.status.idle": "2023-05-07T11:51:39.758235Z",
     "shell.execute_reply": "2023-05-07T11:51:39.756814Z"
    },
    "papermill": {
     "duration": 0.036301,
     "end_time": "2023-05-07T11:51:39.760423",
     "exception": false,
     "start_time": "2023-05-07T11:51:39.724122",
     "status": "completed"
    },
    "tags": []
   },
   "outputs": [
    {
     "data": {
      "text/html": [
       "<div>\n",
       "<style scoped>\n",
       "    .dataframe tbody tr th:only-of-type {\n",
       "        vertical-align: middle;\n",
       "    }\n",
       "\n",
       "    .dataframe tbody tr th {\n",
       "        vertical-align: top;\n",
       "    }\n",
       "\n",
       "    .dataframe thead th {\n",
       "        text-align: right;\n",
       "    }\n",
       "</style>\n",
       "<table border=\"1\" class=\"dataframe\">\n",
       "  <thead>\n",
       "    <tr style=\"text-align: right;\">\n",
       "      <th></th>\n",
       "      <th>Models</th>\n",
       "      <th>Scores</th>\n",
       "      <th>Time</th>\n",
       "      <th>F1</th>\n",
       "    </tr>\n",
       "  </thead>\n",
       "  <tbody>\n",
       "    <tr>\n",
       "      <th>0</th>\n",
       "      <td>Logistic Regression</td>\n",
       "      <td>0.96070</td>\n",
       "      <td>0.443243</td>\n",
       "      <td>0.719286</td>\n",
       "    </tr>\n",
       "    <tr>\n",
       "      <th>1</th>\n",
       "      <td>Random Forest</td>\n",
       "      <td>0.97185</td>\n",
       "      <td>0.797140</td>\n",
       "      <td>0.796971</td>\n",
       "    </tr>\n",
       "    <tr>\n",
       "      <th>2</th>\n",
       "      <td>Ada Boost</td>\n",
       "      <td>0.97240</td>\n",
       "      <td>3.589846</td>\n",
       "      <td>0.803279</td>\n",
       "    </tr>\n",
       "    <tr>\n",
       "      <th>3</th>\n",
       "      <td>Multinomial Naive Bayes</td>\n",
       "      <td>0.90500</td>\n",
       "      <td>0.022454</td>\n",
       "      <td>0.322397</td>\n",
       "    </tr>\n",
       "    <tr>\n",
       "      <th>4</th>\n",
       "      <td>Gaussian Naive Bayes</td>\n",
       "      <td>0.89155</td>\n",
       "      <td>0.030255</td>\n",
       "      <td>0.538216</td>\n",
       "    </tr>\n",
       "    <tr>\n",
       "      <th>5</th>\n",
       "      <td>Linear Support Vector Machine</td>\n",
       "      <td>0.96125</td>\n",
       "      <td>0.257325</td>\n",
       "      <td>0.718693</td>\n",
       "    </tr>\n",
       "  </tbody>\n",
       "</table>\n",
       "</div>"
      ],
      "text/plain": [
       "                          Models   Scores      Time        F1\n",
       "0            Logistic Regression  0.96070  0.443243  0.719286\n",
       "1                  Random Forest  0.97185  0.797140  0.796971\n",
       "2                      Ada Boost  0.97240  3.589846  0.803279\n",
       "3        Multinomial Naive Bayes  0.90500  0.022454  0.322397\n",
       "4           Gaussian Naive Bayes  0.89155  0.030255  0.538216\n",
       "5  Linear Support Vector Machine  0.96125  0.257325  0.718693"
      ]
     },
     "execution_count": 55,
     "metadata": {},
     "output_type": "execute_result"
    }
   ],
   "source": [
    "result_df"
   ]
  },
  {
   "cell_type": "code",
   "execution_count": 56,
   "id": "dcde5bfd",
   "metadata": {
    "execution": {
     "iopub.execute_input": "2023-05-07T11:51:39.804451Z",
     "iopub.status.busy": "2023-05-07T11:51:39.804098Z",
     "iopub.status.idle": "2023-05-07T11:51:39.813548Z",
     "shell.execute_reply": "2023-05-07T11:51:39.813010Z"
    },
    "papermill": {
     "duration": 0.033477,
     "end_time": "2023-05-07T11:51:39.814994",
     "exception": false,
     "start_time": "2023-05-07T11:51:39.781517",
     "status": "completed"
    },
    "tags": []
   },
   "outputs": [
    {
     "data": {
      "text/html": [
       "<div>\n",
       "<style scoped>\n",
       "    .dataframe tbody tr th:only-of-type {\n",
       "        vertical-align: middle;\n",
       "    }\n",
       "\n",
       "    .dataframe tbody tr th {\n",
       "        vertical-align: top;\n",
       "    }\n",
       "\n",
       "    .dataframe thead th {\n",
       "        text-align: right;\n",
       "    }\n",
       "</style>\n",
       "<table border=\"1\" class=\"dataframe\">\n",
       "  <thead>\n",
       "    <tr style=\"text-align: right;\">\n",
       "      <th></th>\n",
       "      <th>Models</th>\n",
       "      <th>Scores</th>\n",
       "      <th>Time</th>\n",
       "      <th>F1</th>\n",
       "    </tr>\n",
       "  </thead>\n",
       "  <tbody>\n",
       "    <tr>\n",
       "      <th>2</th>\n",
       "      <td>Ada Boost</td>\n",
       "      <td>0.97240</td>\n",
       "      <td>3.589846</td>\n",
       "      <td>0.803279</td>\n",
       "    </tr>\n",
       "    <tr>\n",
       "      <th>1</th>\n",
       "      <td>Random Forest</td>\n",
       "      <td>0.97185</td>\n",
       "      <td>0.797140</td>\n",
       "      <td>0.796971</td>\n",
       "    </tr>\n",
       "    <tr>\n",
       "      <th>5</th>\n",
       "      <td>Linear Support Vector Machine</td>\n",
       "      <td>0.96125</td>\n",
       "      <td>0.257325</td>\n",
       "      <td>0.718693</td>\n",
       "    </tr>\n",
       "    <tr>\n",
       "      <th>0</th>\n",
       "      <td>Logistic Regression</td>\n",
       "      <td>0.96070</td>\n",
       "      <td>0.443243</td>\n",
       "      <td>0.719286</td>\n",
       "    </tr>\n",
       "    <tr>\n",
       "      <th>3</th>\n",
       "      <td>Multinomial Naive Bayes</td>\n",
       "      <td>0.90500</td>\n",
       "      <td>0.022454</td>\n",
       "      <td>0.322397</td>\n",
       "    </tr>\n",
       "    <tr>\n",
       "      <th>4</th>\n",
       "      <td>Gaussian Naive Bayes</td>\n",
       "      <td>0.89155</td>\n",
       "      <td>0.030255</td>\n",
       "      <td>0.538216</td>\n",
       "    </tr>\n",
       "  </tbody>\n",
       "</table>\n",
       "</div>"
      ],
      "text/plain": [
       "                          Models   Scores      Time        F1\n",
       "2                      Ada Boost  0.97240  3.589846  0.803279\n",
       "1                  Random Forest  0.97185  0.797140  0.796971\n",
       "5  Linear Support Vector Machine  0.96125  0.257325  0.718693\n",
       "0            Logistic Regression  0.96070  0.443243  0.719286\n",
       "3        Multinomial Naive Bayes  0.90500  0.022454  0.322397\n",
       "4           Gaussian Naive Bayes  0.89155  0.030255  0.538216"
      ]
     },
     "execution_count": 56,
     "metadata": {},
     "output_type": "execute_result"
    }
   ],
   "source": [
    "result_df.sort_values('Scores', ascending = False)"
   ]
  },
  {
   "cell_type": "code",
   "execution_count": 57,
   "id": "90adc458",
   "metadata": {
    "execution": {
     "iopub.execute_input": "2023-05-07T11:51:39.853741Z",
     "iopub.status.busy": "2023-05-07T11:51:39.853396Z",
     "iopub.status.idle": "2023-05-07T11:51:40.064349Z",
     "shell.execute_reply": "2023-05-07T11:51:40.063372Z"
    },
    "papermill": {
     "duration": 0.232859,
     "end_time": "2023-05-07T11:51:40.066705",
     "exception": false,
     "start_time": "2023-05-07T11:51:39.833846",
     "status": "completed"
    },
    "tags": []
   },
   "outputs": [
    {
     "data": {
      "text/plain": [
       "array([[18321,    11],\n",
       "       [  541,  1127]], dtype=int64)"
      ]
     },
     "execution_count": 57,
     "metadata": {},
     "output_type": "execute_result"
    }
   ],
   "source": [
    "#Confusion Matrix for the Best Model, Adaboost\n",
    "\n",
    "confusion_matrix(test_y, ada_model.predict(test_x))"
   ]
  },
  {
   "cell_type": "markdown",
   "id": "9b27c48a",
   "metadata": {
    "papermill": {
     "duration": 0.017555,
     "end_time": "2023-05-07T11:51:40.103082",
     "exception": false,
     "start_time": "2023-05-07T11:51:40.085527",
     "status": "completed"
    },
    "tags": []
   },
   "source": [
    "In the Result Data frame we have Scores, time taken, and F1 values.\n",
    "\n",
    "Scores measure the Accuracy for the Test Data Set.\n",
    "\n",
    "Time taken reders to the Time taken for 1 iteration of the model. More complex model takes more time.\n",
    "\n",
    "F1 Score is a representative of Precision and Recall. High F1 Score means higher of both of them and is considered optimum for a model.\n",
    "\n",
    "From the sorted result we can pick Adaboost Model which has highest accuracy of 0.97240 and highest F1 value at 0.803279. Howeve, while it appears as the best model we must also take into account the time taken for the Adaboost is the highest at 5.7 seconds, and this time is for only 1 iteration as if we use the grid search and other optimization Adaboost is taking most time here.\n",
    "\n",
    "Overall, our problem was predicting the Diabetes Patients and Adaboost model is the best Predictor with the accuracy of 0.97240 among all the 6 Tested Model. If we want utmost prediction we recommend Adaboost, however if slight amount of Accuracy can be sacrificed Random Forest appears to be a competent Model for our problem, it is taking only fraction of time as compared to Adaboost and has high accuracy rate of 0.97185 and high F1 score of 0.7969 which are only a few points below the result metrics of the best model, Adaboost."
   ]
  }
 ],
 "metadata": {
  "kernelspec": {
   "display_name": "Python 3 (ipykernel)",
   "language": "python",
   "name": "python3"
  },
  "language_info": {
   "codemirror_mode": {
    "name": "ipython",
    "version": 3
   },
   "file_extension": ".py",
   "mimetype": "text/x-python",
   "name": "python",
   "nbconvert_exporter": "python",
   "pygments_lexer": "ipython3",
   "version": "3.9.12"
  },
  "papermill": {
   "default_parameters": {},
   "duration": 24.481089,
   "end_time": "2023-05-07T11:51:41.042101",
   "environment_variables": {},
   "exception": null,
   "input_path": "__notebook__.ipynb",
   "output_path": "__notebook__.ipynb",
   "parameters": {},
   "start_time": "2023-05-07T11:51:16.561012",
   "version": "2.4.0"
  }
 },
 "nbformat": 4,
 "nbformat_minor": 5
}
